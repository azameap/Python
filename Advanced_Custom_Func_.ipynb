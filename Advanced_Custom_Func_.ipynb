{
  "nbformat": 4,
  "nbformat_minor": 0,
  "metadata": {
    "colab": {
      "provenance": [],
      "authorship_tag": "ABX9TyPS/R/zcU6DIXaYx4Aa0vNA"
    },
    "kernelspec": {
      "name": "python3",
      "display_name": "Python 3"
    },
    "language_info": {
      "name": "python"
    }
  },
  "cells": [
    {
      "cell_type": "code",
      "source": [],
      "metadata": {
        "id": "g4VkDmJ97ZY-"
      },
      "execution_count": null,
      "outputs": []
    },
    {
      "cell_type": "markdown",
      "source": [
        "Lambda Function"
      ],
      "metadata": {
        "id": "MmJd4wvc7ZDm"
      }
    },
    {
      "cell_type": "code",
      "execution_count": null,
      "metadata": {
        "id": "UuuXnCN02mYw"
      },
      "outputs": [],
      "source": [
        "add = lambda x, y: x+y"
      ]
    },
    {
      "cell_type": "code",
      "source": [
        "result = add(4,2)\n",
        "print(result)"
      ],
      "metadata": {
        "colab": {
          "base_uri": "https://localhost:8080/"
        },
        "id": "gZDpH2h83HpI",
        "outputId": "f4dcd5b9-364e-4769-bf5a-06f0fbca14c1"
      },
      "execution_count": null,
      "outputs": [
        {
          "output_type": "stream",
          "name": "stdout",
          "text": [
            "2.0\n"
          ]
        }
      ]
    },
    {
      "cell_type": "code",
      "source": [
        "def add(x,y)\n",
        "return x+y\n"
      ],
      "metadata": {
        "id": "NFShcfxT3t3G"
      },
      "execution_count": null,
      "outputs": []
    },
    {
      "cell_type": "code",
      "source": [
        "divide = lambda x,y: \"undifined\" if y == 0 else x/y"
      ],
      "metadata": {
        "id": "YLL2DJym5I_S"
      },
      "execution_count": null,
      "outputs": []
    },
    {
      "cell_type": "code",
      "source": [
        "result = divide(3,0)\n",
        "print(result)"
      ],
      "metadata": {
        "colab": {
          "base_uri": "https://localhost:8080/"
        },
        "id": "DP1ZLnTT5W95",
        "outputId": "e2d82e92-a436-46ad-95cc-0b068cf6cda1"
      },
      "execution_count": null,
      "outputs": [
        {
          "output_type": "stream",
          "name": "stdout",
          "text": [
            "undifined\n"
          ]
        }
      ]
    },
    {
      "cell_type": "code",
      "source": [
        "#So, if asked what is Labda function\n",
        "#Labda function is an anonymous function in which we have an expression that is to be executed in one line\n"
      ],
      "metadata": {
        "id": "0rwLkOFr5hOh"
      },
      "execution_count": null,
      "outputs": []
    },
    {
      "cell_type": "markdown",
      "source": [
        "Filter in-built function"
      ],
      "metadata": {
        "id": "2BgwEcl17k-l"
      }
    },
    {
      "cell_type": "code",
      "source": [
        "#filter()\n",
        "# it is an inbuilt function in which an iterable which is true is shown only and the others are filtered\n",
        "#it is an inbult function that is used to to filter out the elements of iterables in a specific condition\n",
        "#it is a filter operation"
      ],
      "metadata": {
        "id": "VHqR2Al_74jY"
      },
      "execution_count": 1,
      "outputs": []
    },
    {
      "cell_type": "markdown",
      "source": [
        "Here's how it works:\n",
        "\n",
        "**Iterable**: You provide filter() with an iterable object, which is a collection of items that you can iterate over one by one. This could be a list of numbers, a string of characters, or any other sequence of elements.\n",
        "\n",
        "**Function**: You also provide a function that defines the filtering criteria. This function takes an element from the iterable as input and returns True if the element should be included in the filtered result, and False otherwise.\n",
        "\n",
        "The function can be a regular named function you define beforehand.\n",
        "It can be an anonymous function created using a lambda expression (often preferred for concise filtering logic).\n",
        "**Filtering**: filter() applies the function to each element in the iterable. It keeps only the elements for which the function returns True, and discards the elements that return False.\n",
        "\n",
        "**Iterator**: filter() returns a new iterator that contains the filtered elements. An iterator is an object that you can use to loop through the elements one at a time, but it doesn't store all the elements in memory at once. This is memory-efficient for large iterables."
      ],
      "metadata": {
        "id": "1udNVBY3_HtS"
      }
    },
    {
      "cell_type": "code",
      "source": [
        "number = [1,2,3,4,5,6,7,8,9,10]\n",
        "even_num = list(filter(lambda x: x%2 == 0, number))\n",
        "print(even_num)"
      ],
      "metadata": {
        "colab": {
          "base_uri": "https://localhost:8080/"
        },
        "id": "7JxvBo187Xxm",
        "outputId": "384868bd-5a24-4204-dbbf-268df89126fb"
      },
      "execution_count": null,
      "outputs": [
        {
          "output_type": "stream",
          "name": "stdout",
          "text": [
            "[2, 4, 6, 8, 10]\n"
          ]
        }
      ]
    },
    {
      "cell_type": "markdown",
      "source": [
        "f you use only ***x % 2*** in the lambda function for the filter() function in Python, it will still effectively filter for even numbers. Here's why:\n",
        "\n",
        "In Python, expressions within a filter() function's lambda argument are evaluated in a Boolean context. This means that the result is treated as True or False.\n",
        "The modulo operator (%) returns the remainder after a division.\n",
        "For even numbers (divisible by 2), the remainder is 0.\n",
        "For odd numbers, the remainder is 1.\n",
        "Since 0 is considered False and any non-zero value is considered True in Boolean evaluation, the lambda function x % 2 behaves as follows:\n",
        "\n",
        "For even numbers (x is divisible by 2, remainder is 0): x % 2 evaluates to 0, which is treated as False in the Boolean context.\n",
        "For odd numbers (x is not divisible by 2, remainder is 1): x % 2 evaluates to 1, which is treated as True in the Boolean context.\n",
        "Filtering Logic:\n",
        "\n",
        "The filter() function keeps elements for which the lambda function returns True.\n",
        "So, in this case, the filter() function will keep only the odd numbers (because x % 2 returns True for them) and discard the even numbers (because x % 2 returns False for them)."
      ],
      "metadata": {
        "id": "KfsEuMOUE6A9"
      }
    },
    {
      "cell_type": "code",
      "source": [
        "#If we use x%2 only in the above code, it will still be used for finding a even number but\n",
        "#when even number divided by 2 gives remainder 0: it is Tecnically False because 0 maens false in boolean:\n",
        "#And for the case of odd numbers if we divide thenm by 2 and the result is 1 which is true in case of boolean:\n",
        "#therefore when we put a filter operation over it it would give out only the true value which is the odd ones:"
      ],
      "metadata": {
        "id": "voX2mFfgEO95"
      },
      "execution_count": null,
      "outputs": []
    },
    {
      "cell_type": "code",
      "source": [],
      "metadata": {
        "id": "DcYCsU3TGLsI"
      },
      "execution_count": null,
      "outputs": []
    },
    {
      "cell_type": "markdown",
      "source": [
        "Map Function"
      ],
      "metadata": {
        "id": "UQRRgLWuG7eu"
      }
    },
    {
      "cell_type": "code",
      "source": [
        "#Map is an inbuilt function in which a condition is applied to all teh elements of the iterable:\n",
        "#example\n",
        "numbers = [0,1,2,3,4,5,6,7,8,9,10]\n",
        "square = list(map(lambda x: x**2, numbers))\n",
        "print(square)"
      ],
      "metadata": {
        "colab": {
          "base_uri": "https://localhost:8080/"
        },
        "id": "pfdO-yk0G9gQ",
        "outputId": "5909ac72-4367-4c6e-f699-d8aead888d55"
      },
      "execution_count": null,
      "outputs": [
        {
          "output_type": "stream",
          "name": "stdout",
          "text": [
            "[0, 1, 4, 9, 16, 25, 36, 49, 64, 81, 100]\n"
          ]
        }
      ]
    },
    {
      "cell_type": "code",
      "source": [
        "numbers = [0,1,2,3,4,5,6,7,8,9,10]\n",
        "square = list(filter(lambda x: x**2, numbers))\n",
        "print(square)"
      ],
      "metadata": {
        "colab": {
          "base_uri": "https://localhost:8080/"
        },
        "id": "xm7ppOBiHiY-",
        "outputId": "056acbc5-9718-4964-8ad0-edcd522f7546"
      },
      "execution_count": null,
      "outputs": [
        {
          "output_type": "stream",
          "name": "stdout",
          "text": [
            "[1, 2, 3, 4, 5, 6, 7, 8, 9, 10]\n"
          ]
        }
      ]
    },
    {
      "cell_type": "markdown",
      "source": [
        "We replaced the map with filter in the below to see the diffrence between the two in-built funtions. To our amazement we saw the the input = output in the map case, also we can see that 0 that was present in the input it was not given as an output in this case.\n",
        "What could have been the reason?\n",
        "The reason is that in filter any thing that gives output 0 is considered False by filter and does not print that.\n",
        "So, from this we can infer that all those outputs where we want TRUE as an output filter operation is used to filter that out for us"
      ],
      "metadata": {
        "id": "7imomoEAIRGy"
      }
    },
    {
      "cell_type": "code",
      "source": [
        "words = [\"apple\", \"banana\", \"cherry\"]\n",
        "upper = list(map(lambda x: x.upper(), words))\n",
        "print(upper)"
      ],
      "metadata": {
        "colab": {
          "base_uri": "https://localhost:8080/"
        },
        "id": "kij_DwBAHori",
        "outputId": "33f1b27d-c508-43d7-d090-798bc9a51aa0"
      },
      "execution_count": null,
      "outputs": [
        {
          "output_type": "stream",
          "name": "stdout",
          "text": [
            "['APPLE', 'BANANA', 'CHERRY']\n"
          ]
        }
      ]
    },
    {
      "cell_type": "markdown",
      "source": [
        "List Comprehenssion"
      ],
      "metadata": {
        "id": "gyxdSG4uOVW9"
      }
    },
    {
      "cell_type": "code",
      "source": [
        "square = []\n",
        "for i in range(1,11):\n",
        "  square.append(i**2)\n",
        "print(square)"
      ],
      "metadata": {
        "colab": {
          "base_uri": "https://localhost:8080/"
        },
        "id": "ej3tdfwKOXZC",
        "outputId": "5c4d0619-67de-42d7-812a-5ed173e33521"
      },
      "execution_count": null,
      "outputs": [
        {
          "output_type": "stream",
          "name": "stdout",
          "text": [
            "[1, 4, 9, 16, 25, 36, 49, 64, 81, 100]\n"
          ]
        }
      ]
    },
    {
      "cell_type": "code",
      "source": [
        "squares = [i**2 for i in range(1,11)]\n",
        "print(squares)"
      ],
      "metadata": {
        "colab": {
          "base_uri": "https://localhost:8080/"
        },
        "id": "TlLbT3goNMoJ",
        "outputId": "646e5749-2ae8-4080-974d-fa07ba9f2a89"
      },
      "execution_count": null,
      "outputs": [
        {
          "output_type": "stream",
          "name": "stdout",
          "text": [
            "[1, 4, 9, 16, 25, 36, 49, 64, 81, 100]\n"
          ]
        }
      ]
    },
    {
      "cell_type": "markdown",
      "source": [
        "**i^2** is the operation you want to perform on each element of the iterable.\n",
        "\" **i** \"is a variable representing each element in the iterable,\n",
        "**range(1,11)** is the iterable object you want to iterate over, and\n",
        "**Condition** is an optional condition that filters the elements based on a Boolean expression."
      ],
      "metadata": {
        "id": "XodtAYhDPTgT"
      }
    },
    {
      "cell_type": "markdown",
      "source": [
        "NESTED LIST COMPRESSION"
      ],
      "metadata": {
        "id": "g_Yw204GQIxZ"
      }
    },
    {
      "cell_type": "code",
      "source": [
        "pairs = [(i,j) for i in range(1,6) for j in range(1,6) if j%2 == 1]  #(i,j) is a tuple creation meaning it creates a tuple containing two elements\n",
        "print(pairs)"
      ],
      "metadata": {
        "colab": {
          "base_uri": "https://localhost:8080/"
        },
        "id": "PIWfudLmQOsQ",
        "outputId": "8bf0c6b5-6e3f-45a9-85db-6eeac250e762"
      },
      "execution_count": null,
      "outputs": [
        {
          "output_type": "stream",
          "name": "stdout",
          "text": [
            "[(1, 1), (1, 3), (1, 5), (2, 1), (2, 3), (2, 5), (3, 1), (3, 3), (3, 5), (4, 1), (4, 3), (4, 5), (5, 1), (5, 3), (5, 5)]\n"
          ]
        }
      ]
    },
    {
      "cell_type": "code",
      "source": [
        "#correct\n",
        "numbers = [1, 2, 3, 4, 5]\n",
        "squared = [x ** 2 for x in numbers]\n",
        "print(squared)"
      ],
      "metadata": {
        "colab": {
          "base_uri": "https://localhost:8080/"
        },
        "id": "IxsV0m2oRzzq",
        "outputId": "4257c13e-f719-4538-cf51-1a72fc34c423"
      },
      "execution_count": null,
      "outputs": [
        {
          "output_type": "stream",
          "name": "stdout",
          "text": [
            "[1, 4, 9, 16, 25]\n"
          ]
        }
      ]
    },
    {
      "cell_type": "code",
      "source": [
        "celsius_temps = [25, 30, 15, 20, 10]\n",
        "fahrenheit_temps = [x * 9/5 + 32 for x in celsius_temps]\n",
        "print(fahrenheit_temps)"
      ],
      "metadata": {
        "colab": {
          "base_uri": "https://localhost:8080/"
        },
        "id": "SSdILw4KR4LU",
        "outputId": "df76c620-b238-461c-f675-a1557874bd07"
      },
      "execution_count": null,
      "outputs": [
        {
          "output_type": "stream",
          "name": "stdout",
          "text": [
            "[77.0, 86.0, 59.0, 68.0, 50.0]\n"
          ]
        }
      ]
    },
    {
      "cell_type": "markdown",
      "source": [
        "Complete the lambda function to multiply each element of the list by 2 using mapping.\n",
        "\n",
        "\n",
        "numbers = [1, 2, 3, 4, 5]\n",
        "\n",
        "doubled_numbers = list(map(______, numbers))"
      ],
      "metadata": {
        "id": "6uAl5q1PTREn"
      }
    },
    {
      "cell_type": "code",
      "source": [
        "numbers = [1, 2, 3, 4, 5]\n",
        "doubled_numbers = list(map(lambda x: x*2, numbers))\n",
        "print(doubled_numbers)"
      ],
      "metadata": {
        "colab": {
          "base_uri": "https://localhost:8080/"
        },
        "id": "bRzF8ZeKS80m",
        "outputId": "f78813c1-008e-4768-e5aa-e708a8472a2d"
      },
      "execution_count": null,
      "outputs": [
        {
          "output_type": "stream",
          "name": "stdout",
          "text": [
            "[2, 4, 6, 8, 10]\n"
          ]
        }
      ]
    },
    {
      "cell_type": "markdown",
      "source": [
        "Instructions: Complete the lambda function to convert each word in the list to uppercase using mapping.\n",
        "\n",
        "words = ['hello', 'world', 'python', 'programming']\n",
        "\n",
        "uppercase_words = list(map(______, words))"
      ],
      "metadata": {
        "id": "c9LULsUqTudh"
      }
    },
    {
      "cell_type": "code",
      "source": [
        "words = ['hello', 'world', 'python', 'programming']\n",
        "uppercase_words = list(map(lambda x: x.upper(), words))\n",
        "print(uppercase_words)"
      ],
      "metadata": {
        "colab": {
          "base_uri": "https://localhost:8080/"
        },
        "id": "xtUPEXFkTkFi",
        "outputId": "0ffda195-e7c3-481a-eea7-27557f6fe614"
      },
      "execution_count": null,
      "outputs": [
        {
          "output_type": "stream",
          "name": "stdout",
          "text": [
            "['HELLO', 'WORLD', 'PYTHON', 'PROGRAMMING']\n"
          ]
        }
      ]
    },
    {
      "cell_type": "code",
      "source": [],
      "metadata": {
        "id": "vBimlGU2T--t"
      },
      "execution_count": null,
      "outputs": []
    },
    {
      "cell_type": "markdown",
      "source": [
        "SET COMPREHENSSION"
      ],
      "metadata": {
        "id": "FYkpFJNoUOOI"
      }
    },
    {
      "cell_type": "code",
      "source": [
        "#same as list comprehenssion but insted of list they create a list\n",
        "#example\n",
        "vowels = set()\n",
        "for char in \"hello World\":\n",
        "  if char in \"aeiou\":\n",
        "    vowels.add(char)\n",
        "print(vowels)"
      ],
      "metadata": {
        "colab": {
          "base_uri": "https://localhost:8080/"
        },
        "id": "k7oW1DxmUjHO",
        "outputId": "589d7d57-d393-40be-c224-59bfbc5bb0a7"
      },
      "execution_count": null,
      "outputs": [
        {
          "output_type": "stream",
          "name": "stdout",
          "text": [
            "{'o', 'e'}\n"
          ]
        }
      ]
    },
    {
      "cell_type": "code",
      "source": [
        "vowels = {char for char in \"hello world\" if char in \"aeiou\"}\n",
        "print(vowels)"
      ],
      "metadata": {
        "colab": {
          "base_uri": "https://localhost:8080/"
        },
        "id": "tEbSWyiRVOSF",
        "outputId": "bde45787-0a38-46cf-885a-7ebd60f928db"
      },
      "execution_count": null,
      "outputs": [
        {
          "output_type": "stream",
          "name": "stdout",
          "text": [
            "{'o', 'e'}\n"
          ]
        }
      ]
    },
    {
      "cell_type": "code",
      "source": [
        "books = [('fiction', 20), ('history', 15), ('biography', 5), ('mystery', 10), ('science', 8), ('fiction', 15), ('history', 10)]\n",
        "unique_cat = {catg for catg, stock in books if stock >= 10}\n",
        "print(unique_cat)"
      ],
      "metadata": {
        "colab": {
          "base_uri": "https://localhost:8080/"
        },
        "id": "1OpAnaWXWugQ",
        "outputId": "deb10843-854f-4c56-9243-e2883d8bb398"
      },
      "execution_count": null,
      "outputs": [
        {
          "output_type": "stream",
          "name": "stdout",
          "text": [
            "{'mystery', 'history', 'fiction'}\n"
          ]
        }
      ]
    },
    {
      "cell_type": "markdown",
      "source": [
        "Dictionary Comprehenssion"
      ],
      "metadata": {
        "id": "yISuVNdXagQM"
      }
    },
    {
      "cell_type": "code",
      "source": [
        "names = ['Alice', 'Bob', 'Charlie', 'Dave']\n",
        "name_lengths = {name: len(name) for name in names}\n",
        "print(name_lengths)"
      ],
      "metadata": {
        "colab": {
          "base_uri": "https://localhost:8080/"
        },
        "id": "E8aADo3kXM5w",
        "outputId": "c42972fa-7b2d-4678-c30c-1b14bf4033ae"
      },
      "execution_count": null,
      "outputs": [
        {
          "output_type": "stream",
          "name": "stdout",
          "text": [
            "{'Alice': 5, 'Bob': 3, 'Charlie': 7, 'Dave': 4}\n"
          ]
        }
      ]
    },
    {
      "cell_type": "code",
      "source": [
        "names = {'Alice': 20, 'Bob':30, 'Charlie': 40, 'Dave': 50}\n",
        "pass_marks = {name: marks for name,marks in names.items() if marks>30}\n",
        "print(pass_marks)"
      ],
      "metadata": {
        "colab": {
          "base_uri": "https://localhost:8080/"
        },
        "id": "LZFG5dg3c06S",
        "outputId": "eb020d5d-9a64-48c4-bf60-f7cdc35abc74"
      },
      "execution_count": null,
      "outputs": [
        {
          "output_type": "stream",
          "name": "stdout",
          "text": [
            "{'Charlie': 40, 'Dave': 50}\n"
          ]
        }
      ]
    },
    {
      "cell_type": "code",
      "source": [
        "people = {'Alice': 25, 'Bob': 17, 'Charlie': 20, 'David': 30, 'Eve': 16}\n",
        "age_18_plus = {name:age for name,age in people.items() if age>18}\n",
        "print(age_18_plus)"
      ],
      "metadata": {
        "colab": {
          "base_uri": "https://localhost:8080/"
        },
        "id": "EcoPb4HIdMZL",
        "outputId": "0c5fe498-6f72-4423-9c4b-233a6d12468e"
      },
      "execution_count": null,
      "outputs": [
        {
          "output_type": "stream",
          "name": "stdout",
          "text": [
            "{'Alice': 25, 'Charlie': 20, 'David': 30}\n"
          ]
        }
      ]
    },
    {
      "cell_type": "code",
      "source": [
        "{x: x**2 for x in [1, 2, 3, 4, 5] if x % 2 == 0}"
      ],
      "metadata": {
        "colab": {
          "base_uri": "https://localhost:8080/"
        },
        "id": "HTEEc57neNla",
        "outputId": "afe74307-e0bf-402c-9865-bbdb0dcff8a8"
      },
      "execution_count": null,
      "outputs": [
        {
          "output_type": "execute_result",
          "data": {
            "text/plain": [
              "{2: 4, 4: 16}"
            ]
          },
          "metadata": {},
          "execution_count": 68
        }
      ]
    },
    {
      "cell_type": "code",
      "source": [
        "fruits = ['apple', 'banana', 'orange']\n",
        "for index, fruit in enumerate(fruits):\n",
        "    print(f\"Index {index}: {fruit}\")"
      ],
      "metadata": {
        "colab": {
          "base_uri": "https://localhost:8080/"
        },
        "id": "53WnBqO5fgai",
        "outputId": "5a99a829-2d06-44a2-9a89-0858a55ea508"
      },
      "execution_count": null,
      "outputs": [
        {
          "output_type": "stream",
          "name": "stdout",
          "text": [
            "Index 0: apple\n",
            "Index 1: banana\n",
            "Index 2: orange\n"
          ]
        }
      ]
    },
    {
      "cell_type": "code",
      "source": [
        "names = ['Alice', 'Bob', 'Charlie']\n",
        "scores = [85, 92, 78]\n",
        "for name, score in zip(names, scores):\n",
        "    print(f\"{name}: {score}\")\n"
      ],
      "metadata": {
        "colab": {
          "base_uri": "https://localhost:8080/"
        },
        "id": "mk0_a7N8fg0n",
        "outputId": "6deca202-0445-4eed-f038-ba1b7229d055"
      },
      "execution_count": null,
      "outputs": [
        {
          "output_type": "stream",
          "name": "stdout",
          "text": [
            "Alice: 85\n",
            "Bob: 92\n",
            "Charlie: 78\n"
          ]
        }
      ]
    },
    {
      "cell_type": "code",
      "source": [
        "code = eval(input())\n",
        "new_code = [i for i in code if i is not None]\n",
        "print(new_code)"
      ],
      "metadata": {
        "colab": {
          "base_uri": "https://localhost:8080/"
        },
        "id": "7wtVVxg-fqV0",
        "outputId": "49e53560-0261-45f9-84fd-e4ed7f8ee360"
      },
      "execution_count": null,
      "outputs": [
        {
          "output_type": "stream",
          "name": "stdout",
          "text": [
            "[12, 0, None, 23, None, -55, 234, 89, None, 0, 6, -12]\n",
            "[12, 0, 23, -55, 234, 89, 0, 6, -12]\n"
          ]
        }
      ]
    },
    {
      "cell_type": "code",
      "source": [
        "code = [12, 0, None, 23, None, -55, 234, 89, None, 0, 6, -12]"
      ],
      "metadata": {
        "id": "FC4LPrRcgpdi"
      },
      "execution_count": null,
      "outputs": []
    },
    {
      "cell_type": "code",
      "source": [
        "my_num = eval(input())\n",
        "print(my_num)"
      ],
      "metadata": {
        "colab": {
          "base_uri": "https://localhost:8080/",
          "height": 263
        },
        "id": "0LPZZy6Lic0g",
        "outputId": "3254c75e-b295-4c7b-fd0d-285a75b4cbf9"
      },
      "execution_count": null,
      "outputs": [
        {
          "name": "stdout",
          "output_type": "stream",
          "text": [
            "[1 2 3]\n"
          ]
        },
        {
          "output_type": "error",
          "ename": "SyntaxError",
          "evalue": "invalid syntax. Perhaps you forgot a comma? (<string>, line 1)",
          "traceback": [
            "Traceback \u001b[0;36m(most recent call last)\u001b[0m:\n",
            "  File \u001b[1;32m\"/usr/local/lib/python3.10/dist-packages/IPython/core/interactiveshell.py\"\u001b[0m, line \u001b[1;32m3553\u001b[0m, in \u001b[1;35mrun_code\u001b[0m\n    exec(code_obj, self.user_global_ns, self.user_ns)\n",
            "\u001b[0;36m  File \u001b[0;32m\"<ipython-input-83-91360e8f30f1>\"\u001b[0;36m, line \u001b[0;32m1\u001b[0;36m, in \u001b[0;35m<cell line: 1>\u001b[0;36m\u001b[0m\n\u001b[0;31m    my_num = eval(input())\u001b[0m\n",
            "\u001b[0;36m  File \u001b[0;32m\"<string>\"\u001b[0;36m, line \u001b[0;32m1\u001b[0m\n\u001b[0;31m    [1 2 3]\u001b[0m\n\u001b[0m     ^\u001b[0m\n\u001b[0;31mSyntaxError\u001b[0m\u001b[0;31m:\u001b[0m invalid syntax. Perhaps you forgot a comma?\n"
          ]
        }
      ]
    },
    {
      "cell_type": "code",
      "source": [],
      "metadata": {
        "id": "-yxVXp-VpWW7"
      },
      "execution_count": null,
      "outputs": []
    },
    {
      "cell_type": "code",
      "source": [],
      "metadata": {
        "id": "JGiyBorViipo"
      },
      "execution_count": null,
      "outputs": []
    },
    {
      "cell_type": "code",
      "source": [
        "code = [1,2,3,4,5,6,7,8,9,10]\n",
        "code1 = [2,4,6,8]\n",
        "new = []\n",
        "for i in code:\n",
        "  if i not in code1:\n",
        "     print(i)\n"
      ],
      "metadata": {
        "colab": {
          "base_uri": "https://localhost:8080/"
        },
        "id": "cGqhMoHOi7Le",
        "outputId": "7bcf1673-67bd-408b-df1a-75d2e7d195d3"
      },
      "execution_count": null,
      "outputs": [
        {
          "output_type": "stream",
          "name": "stdout",
          "text": [
            "1\n",
            "3\n",
            "5\n",
            "7\n",
            "9\n",
            "10\n"
          ]
        }
      ]
    },
    {
      "cell_type": "code",
      "source": [
        "code1 = eval(input())\n",
        "code2 = eval(input())\n",
        "result =[i for i in code1 if i not in code2]\n",
        "print(result)"
      ],
      "metadata": {
        "colab": {
          "base_uri": "https://localhost:8080/"
        },
        "id": "f9s0wwu4jfYq",
        "outputId": "c37fd1f8-03e5-4c6b-ec9d-89367ef189f0"
      },
      "execution_count": null,
      "outputs": [
        {
          "output_type": "stream",
          "name": "stdout",
          "text": [
            "[1,2,3,4,5,6,7,8,9,10]\n",
            "[2,4,6,8]\n",
            "[1, 3, 5, 7, 9, 10]\n"
          ]
        }
      ]
    },
    {
      "cell_type": "code",
      "source": [
        "names = ['Alice', 'Bob', 'Charlie', 'Dave']\n",
        "name_lengths = {name: len(name) for name in names}\n",
        "print(name_lengths)"
      ],
      "metadata": {
        "id": "VoPZxjE-pgaL"
      },
      "execution_count": null,
      "outputs": []
    },
    {
      "cell_type": "code",
      "source": [
        "#Write a Python program to count the number of characters (character frequency) in a string.\n",
        "my_string = \"Mohammad Azam Bhat\"\n",
        "char_freq = {i: len(i) for i in my_string}\n",
        "print(char_freq)\n"
      ],
      "metadata": {
        "colab": {
          "base_uri": "https://localhost:8080/"
        },
        "id": "2iVNA1pKoICm",
        "outputId": "6cf2c9da-8ebe-4730-e3ae-abbdf1672114"
      },
      "execution_count": null,
      "outputs": [
        {
          "output_type": "stream",
          "name": "stdout",
          "text": [
            "{'M': 1, 'o': 1, 'h': 1, 'a': 1, 'm': 1, 'd': 1, ' ': 1, 'A': 1, 'z': 1, 'B': 1, 't': 1}\n"
          ]
        }
      ]
    },
    {
      "cell_type": "code",
      "source": [
        "my_str = input()\n",
        "char_freq = {}\n",
        "for char in my_str:\n",
        "  if char in char_freq:\n",
        "    char_freq[char] +=1\n",
        "  else:\n",
        "    char_freq[char] = 1\n",
        "print(char_freq)"
      ],
      "metadata": {
        "colab": {
          "base_uri": "https://localhost:8080/"
        },
        "id": "4t9fh-erp64m",
        "outputId": "ac5941e1-66cb-465e-a27f-0d6bd3080b68"
      },
      "execution_count": null,
      "outputs": [
        {
          "output_type": "stream",
          "name": "stdout",
          "text": [
            "mohmmmd\n",
            "{'m': 4, 'o': 1, 'h': 1, 'd': 1}\n"
          ]
        }
      ]
    },
    {
      "cell_type": "code",
      "source": [
        "[x**2 for x in range(5) if x % 2 == 0]"
      ],
      "metadata": {
        "colab": {
          "base_uri": "https://localhost:8080/"
        },
        "id": "Zn27BPsxr0Hv",
        "outputId": "62516ae2-7126-4086-a967-b9128b1be139"
      },
      "execution_count": null,
      "outputs": [
        {
          "output_type": "execute_result",
          "data": {
            "text/plain": [
              "[0, 4, 16]"
            ]
          },
          "metadata": {},
          "execution_count": 104
        }
      ]
    },
    {
      "cell_type": "code",
      "source": [
        "s = {x.upper() for x in {'Apple', 'Banana', 'Cherry'}}\n",
        "print(s)"
      ],
      "metadata": {
        "colab": {
          "base_uri": "https://localhost:8080/"
        },
        "id": "HpSKh0uxztGh",
        "outputId": "aac76138-689b-492a-d2ec-664a3c39503a"
      },
      "execution_count": null,
      "outputs": [
        {
          "output_type": "stream",
          "name": "stdout",
          "text": [
            "{'APPLE', 'BANANA', 'CHERRY'}\n"
          ]
        }
      ]
    },
    {
      "cell_type": "code",
      "source": [
        "s = {x**2 for x in range(5)}\n",
        "print(s)"
      ],
      "metadata": {
        "colab": {
          "base_uri": "https://localhost:8080/"
        },
        "id": "p7JVh-dizz0f",
        "outputId": "1ca8eb56-976a-40a7-89ab-30e3f0eef23f"
      },
      "execution_count": null,
      "outputs": [
        {
          "output_type": "stream",
          "name": "stdout",
          "text": [
            "{0, 1, 4, 9, 16}\n"
          ]
        }
      ]
    },
    {
      "cell_type": "code",
      "source": [
        " s = list(map(lambda x: x**-1, [1, 2, 3]))\n",
        " print(s)"
      ],
      "metadata": {
        "colab": {
          "base_uri": "https://localhost:8080/"
        },
        "id": "zGAu3lDuz9D6",
        "outputId": "16a8a6ba-0ac1-4f2c-b31a-12e22716f3a4"
      },
      "execution_count": null,
      "outputs": [
        {
          "output_type": "stream",
          "name": "stdout",
          "text": [
            "[1.0, 0.5, 0.3333333333333333]\n"
          ]
        }
      ]
    },
    {
      "cell_type": "code",
      "source": [
        "s = [x**-1 for x in [(1, 2, 3)]]\n",
        "print(s)"
      ],
      "metadata": {
        "colab": {
          "base_uri": "https://localhost:8080/",
          "height": 228
        },
        "id": "c6XoBdCL0KiA",
        "outputId": "104b1887-65bd-4422-f7c7-ab9176847a35"
      },
      "execution_count": null,
      "outputs": [
        {
          "output_type": "error",
          "ename": "TypeError",
          "evalue": "unsupported operand type(s) for ** or pow(): 'tuple' and 'int'",
          "traceback": [
            "\u001b[0;31m---------------------------------------------------------------------------\u001b[0m",
            "\u001b[0;31mTypeError\u001b[0m                                 Traceback (most recent call last)",
            "\u001b[0;32m<ipython-input-109-06bd78aa348c>\u001b[0m in \u001b[0;36m<cell line: 1>\u001b[0;34m()\u001b[0m\n\u001b[0;32m----> 1\u001b[0;31m \u001b[0ms\u001b[0m \u001b[0;34m=\u001b[0m \u001b[0;34m[\u001b[0m\u001b[0mx\u001b[0m\u001b[0;34m**\u001b[0m\u001b[0;34m-\u001b[0m\u001b[0;36m1\u001b[0m \u001b[0;32mfor\u001b[0m \u001b[0mx\u001b[0m \u001b[0;32min\u001b[0m \u001b[0;34m[\u001b[0m\u001b[0;34m(\u001b[0m\u001b[0;36m1\u001b[0m\u001b[0;34m,\u001b[0m \u001b[0;36m2\u001b[0m\u001b[0;34m,\u001b[0m \u001b[0;36m3\u001b[0m\u001b[0;34m)\u001b[0m\u001b[0;34m]\u001b[0m\u001b[0;34m]\u001b[0m\u001b[0;34m\u001b[0m\u001b[0;34m\u001b[0m\u001b[0m\n\u001b[0m\u001b[1;32m      2\u001b[0m \u001b[0mprint\u001b[0m\u001b[0;34m(\u001b[0m\u001b[0ms\u001b[0m\u001b[0;34m)\u001b[0m\u001b[0;34m\u001b[0m\u001b[0;34m\u001b[0m\u001b[0m\n",
            "\u001b[0;32m<ipython-input-109-06bd78aa348c>\u001b[0m in \u001b[0;36m<listcomp>\u001b[0;34m(.0)\u001b[0m\n\u001b[0;32m----> 1\u001b[0;31m \u001b[0ms\u001b[0m \u001b[0;34m=\u001b[0m \u001b[0;34m[\u001b[0m\u001b[0mx\u001b[0m\u001b[0;34m**\u001b[0m\u001b[0;34m-\u001b[0m\u001b[0;36m1\u001b[0m \u001b[0;32mfor\u001b[0m \u001b[0mx\u001b[0m \u001b[0;32min\u001b[0m \u001b[0;34m[\u001b[0m\u001b[0;34m(\u001b[0m\u001b[0;36m1\u001b[0m\u001b[0;34m,\u001b[0m \u001b[0;36m2\u001b[0m\u001b[0;34m,\u001b[0m \u001b[0;36m3\u001b[0m\u001b[0;34m)\u001b[0m\u001b[0;34m]\u001b[0m\u001b[0;34m]\u001b[0m\u001b[0;34m\u001b[0m\u001b[0;34m\u001b[0m\u001b[0m\n\u001b[0m\u001b[1;32m      2\u001b[0m \u001b[0mprint\u001b[0m\u001b[0;34m(\u001b[0m\u001b[0ms\u001b[0m\u001b[0;34m)\u001b[0m\u001b[0;34m\u001b[0m\u001b[0;34m\u001b[0m\u001b[0m\n",
            "\u001b[0;31mTypeError\u001b[0m: unsupported operand type(s) for ** or pow(): 'tuple' and 'int'"
          ]
        }
      ]
    },
    {
      "cell_type": "code",
      "source": [
        "x = [i**+1 for i in range(3)]\n",
        "print(x)"
      ],
      "metadata": {
        "colab": {
          "base_uri": "https://localhost:8080/"
        },
        "id": "C0X8xMS20OUz",
        "outputId": "87bc278e-f7b7-404f-d3b2-ca6907d6660e"
      },
      "execution_count": null,
      "outputs": [
        {
          "output_type": "stream",
          "name": "stdout",
          "text": [
            "[0, 1, 2]\n"
          ]
        }
      ]
    },
    {
      "cell_type": "code",
      "source": [],
      "metadata": {
        "colab": {
          "base_uri": "https://localhost:8080/",
          "height": 106
        },
        "id": "HCEKD_Qj0iNF",
        "outputId": "335d2cd8-5acf-49a3-afe0-5e0d36ac63e0"
      },
      "execution_count": null,
      "outputs": [
        {
          "output_type": "error",
          "ename": "SyntaxError",
          "evalue": "invalid syntax (<ipython-input-114-da50bee4693d>, line 1)",
          "traceback": [
            "\u001b[0;36m  File \u001b[0;32m\"<ipython-input-114-da50bee4693d>\"\u001b[0;36m, line \u001b[0;32m1\u001b[0m\n\u001b[0;31m    print(for i in range(4) if i%2==0: i; else: i+1)\u001b[0m\n\u001b[0m          ^\u001b[0m\n\u001b[0;31mSyntaxError\u001b[0m\u001b[0;31m:\u001b[0m invalid syntax\n"
          ]
        }
      ]
    },
    {
      "cell_type": "code",
      "source": [],
      "metadata": {
        "id": "Nexvrhs10uj6"
      },
      "execution_count": null,
      "outputs": []
    }
  ]
}