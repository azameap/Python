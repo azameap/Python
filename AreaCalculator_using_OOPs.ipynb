{
  "nbformat": 4,
  "nbformat_minor": 0,
  "metadata": {
    "colab": {
      "provenance": [],
      "authorship_tag": "ABX9TyMbcyMwgyUPvh6vXOhr+SCe"
    },
    "kernelspec": {
      "name": "python3",
      "display_name": "Python 3"
    },
    "language_info": {
      "name": "python"
    }
  },
  "cells": [
    {
      "cell_type": "code",
      "execution_count": null,
      "metadata": {
        "id": "vFelYe099SD5"
      },
      "outputs": [],
      "source": [
        "#You are building a shape calculator program that allows users to calculate the area of various shapes,\n",
        "#including squares, rectangles, and circles. Each shape has a different formula for calculating its area and perimeter.\n",
        "#to implement this program, you decide to use polymorphism,where each shape is represented by its own class with its own methods for calculating area.\n",
        "#The program should be able to accept inputs for the dimensions of the different shapes and calculate their respective areas."
      ]
    },
    {
      "cell_type": "code",
      "source": [
        "class Shape:\n",
        "  def area(self):\n",
        "    pass\n",
        "\n",
        "\n",
        "class Square(Shape):\n",
        "  def __init__(self,side):\n",
        "    self.side = side\n",
        "\n",
        "  def area(self):\n",
        "    return self.side * self.side\n",
        "\n",
        "class Rectangle(Shape):\n",
        "  def __init__(self,length,breadth):\n",
        "    self.length = length\n",
        "    self.breadth = breadth\n",
        "\n",
        "  def area(self):\n",
        "    return self.length * self.breadth\n",
        "\n",
        "class Circle(Shape):\n",
        "  def __init__(self,radius):\n",
        "    self.radius = radius\n",
        "\n",
        "  def area(self):\n",
        "    return (22/7) * self.radius ** 2"
      ],
      "metadata": {
        "id": "Xw2O3H7K_Qbo"
      },
      "execution_count": 5,
      "outputs": []
    },
    {
      "cell_type": "code",
      "source": [
        "square = Square(5)\n",
        "rectangle = Rectangle(5,7)\n",
        "circle = Circle(5)"
      ],
      "metadata": {
        "id": "5UBTM7lUAVSp"
      },
      "execution_count": 6,
      "outputs": []
    },
    {
      "cell_type": "code",
      "source": [
        "print(f\"Area of Square is {square.area()}\")\n",
        "print(f\"Area of Rectangle is {rectangle.area()}\")\n",
        "print(f\"Area of Circle is {round(circle.area(),2)}\")"
      ],
      "metadata": {
        "colab": {
          "base_uri": "https://localhost:8080/"
        },
        "id": "irM1GdbKDVSU",
        "outputId": "7d51e8b5-9e28-4680-fac0-e4b193c6b0f1"
      },
      "execution_count": 11,
      "outputs": [
        {
          "output_type": "stream",
          "name": "stdout",
          "text": [
            "Area of Square is 25\n",
            "Area of Rectangle is 35\n",
            "Area of Circle is 78.57\n"
          ]
        }
      ]
    },
    {
      "cell_type": "code",
      "source": [],
      "metadata": {
        "id": "eGKaHw0BDZbi"
      },
      "execution_count": null,
      "outputs": []
    }
  ]
}