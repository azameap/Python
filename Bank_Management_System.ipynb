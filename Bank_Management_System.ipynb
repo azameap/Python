{
  "nbformat": 4,
  "nbformat_minor": 0,
  "metadata": {
    "colab": {
      "provenance": [],
      "authorship_tag": "ABX9TyO4E8EenbV+DRrZzArW4yw3"
    },
    "kernelspec": {
      "name": "python3",
      "display_name": "Python 3"
    },
    "language_info": {
      "name": "python"
    }
  },
  "cells": [
    {
      "cell_type": "code",
      "execution_count": null,
      "metadata": {
        "id": "cFR9rOQIEPHG"
      },
      "outputs": [],
      "source": [
        "#Create a Bank Account Management System using Object-Oriented Programming (OOPs) in Python.\n",
        "#The system should allow users to create and manage bank accounts, deposit and withdraw funds, and view account details"
      ]
    },
    {
      "cell_type": "code",
      "source": [
        "class BankAccount:\n",
        "  def __init__(self,name,account,balance):\n",
        "    self.name = name\n",
        "    self.account = account\n",
        "    self.balance = balance\n",
        "\n",
        "  def deposit(self,amount):\n",
        "    self.balance += amount\n",
        "  def credit(self,amount):\n",
        "    self.balance -= amount\n",
        "\n",
        "  def transaction(self,amount):\n",
        "    if amount <= self.balance:\n",
        "       self.balance -= amount\n",
        "       print(f\"{amount}$ debited from A/c noXXXXXX{self.account}. Your available Balance is {self.balance}\")\n",
        "    else:\n",
        "       (f\"Transaction Failed. Balance should be greater than {self.balance} for transaction\")\n",
        "\n",
        "  def account_detail(self):\n",
        "    print(f\"Name: {self.name}\")\n",
        "    print(f\"Account: {self.account}\")\n",
        "    print(f\"Balance: {self.balance}\")\n",
        "\n",
        "\n",
        ""
      ],
      "metadata": {
        "id": "iyKs4wx1EYNS"
      },
      "execution_count": 38,
      "outputs": []
    },
    {
      "cell_type": "code",
      "source": [
        "acc1 = BankAccount('Azam',1234,10000)\n",
        "\n",
        "print(acc1.deposit(10000))\n",
        "acc1.transaction(2000)\n",
        "acc1.account_detail()\n"
      ],
      "metadata": {
        "colab": {
          "base_uri": "https://localhost:8080/"
        },
        "id": "glgsub-TyGgO",
        "outputId": "c0e76249-4c4b-4f89-8fd7-4d18d40e95ce"
      },
      "execution_count": 40,
      "outputs": [
        {
          "output_type": "stream",
          "name": "stdout",
          "text": [
            "None\n",
            "2000$ debited from A/c noXXXXXX1234. Your available Balance is 18000\n",
            "Name: Azam\n",
            "Account: 1234\n",
            "Balance: 18000\n"
          ]
        }
      ]
    },
    {
      "cell_type": "code",
      "source": [],
      "metadata": {
        "id": "II8sJDO_zuZs"
      },
      "execution_count": null,
      "outputs": []
    }
  ]
}