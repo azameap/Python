{
  "nbformat": 4,
  "nbformat_minor": 0,
  "metadata": {
    "colab": {
      "provenance": [],
      "gpuType": "T4",
      "authorship_tag": "ABX9TyOhrzfxELZemUEFTCEgHf5s"
    },
    "kernelspec": {
      "name": "python3",
      "display_name": "Python 3"
    },
    "language_info": {
      "name": "python"
    },
    "accelerator": "GPU"
  },
  "cells": [
    {
      "cell_type": "code",
      "execution_count": null,
      "metadata": {
        "id": "vcSddHqkT8AM"
      },
      "outputs": [],
      "source": [
        "#Json\n",
        "#what is a json file?\n",
        "#JavaScrip object Notion\n",
        "#Looks similar to dictionary\n",
        "#light weight, used for web based applications\n",
        "#Used for storing data"
      ]
    },
    {
      "cell_type": "code",
      "source": [
        "from google.colab import drive\n",
        "drive.mount('/contentdrive')"
      ],
      "metadata": {
        "colab": {
          "base_uri": "https://localhost:8080/"
        },
        "id": "BGp9z7O2UaAR",
        "outputId": "8c5a46e9-5351-42be-d78e-85ae6501986e"
      },
      "execution_count": 24,
      "outputs": [
        {
          "output_type": "stream",
          "name": "stdout",
          "text": [
            "Drive already mounted at /contentdrive; to attempt to forcibly remount, call drive.mount(\"/contentdrive\", force_remount=True).\n"
          ]
        }
      ]
    },
    {
      "cell_type": "code",
      "source": [
        "#now if you want to manipulate json file data into python envirnment\n",
        "import json\n",
        "#this is pythons built in json module\n",
        "#from json module we use a load() function to read json data and convert it to python object"
      ],
      "metadata": {
        "id": "OiYqbNS2Q3HP"
      },
      "execution_count": 25,
      "outputs": []
    },
    {
      "cell_type": "code",
      "source": [
        "import json\n",
        "file_path = '/content/drive/MyDrive/Datasets/movies.csv'\n",
        "\n",
        "\n"
      ],
      "metadata": {
        "id": "EzrY7TYNQ_lX"
      },
      "execution_count": 46,
      "outputs": []
    },
    {
      "cell_type": "code",
      "source": [],
      "metadata": {
        "id": "VZg6EWv-W-mD"
      },
      "execution_count": 29,
      "outputs": []
    },
    {
      "cell_type": "code",
      "source": [
        "import os\n",
        "\n",
        "if os.path.exists(path):\n",
        "  print(\"File exists\")\n",
        "else:\n",
        "  print(\"File does not exist\")"
      ],
      "metadata": {
        "colab": {
          "base_uri": "https://localhost:8080/"
        },
        "id": "4ZCmW5IRYm1r",
        "outputId": "5a88f607-54d9-4f2a-8628-e0064357e26b"
      },
      "execution_count": 31,
      "outputs": [
        {
          "output_type": "stream",
          "name": "stdout",
          "text": [
            "File does not exist\n"
          ]
        }
      ]
    },
    {
      "cell_type": "code",
      "source": [
        "!pip install google-api-python-client"
      ],
      "metadata": {
        "colab": {
          "base_uri": "https://localhost:8080/"
        },
        "id": "t9pbEl8KYpkd",
        "outputId": "31bbb0b2-7407-4d83-fb37-72da18ca751f"
      },
      "execution_count": 32,
      "outputs": [
        {
          "output_type": "stream",
          "name": "stdout",
          "text": [
            "Requirement already satisfied: google-api-python-client in /usr/local/lib/python3.10/dist-packages (2.84.0)\n",
            "Requirement already satisfied: httplib2<1dev,>=0.15.0 in /usr/local/lib/python3.10/dist-packages (from google-api-python-client) (0.22.0)\n",
            "Requirement already satisfied: google-auth<3.0.0dev,>=1.19.0 in /usr/local/lib/python3.10/dist-packages (from google-api-python-client) (2.27.0)\n",
            "Requirement already satisfied: google-auth-httplib2>=0.1.0 in /usr/local/lib/python3.10/dist-packages (from google-api-python-client) (0.1.1)\n",
            "Requirement already satisfied: google-api-core!=2.0.*,!=2.1.*,!=2.2.*,!=2.3.0,<3.0.0dev,>=1.31.5 in /usr/local/lib/python3.10/dist-packages (from google-api-python-client) (2.11.1)\n",
            "Requirement already satisfied: uritemplate<5,>=3.0.1 in /usr/local/lib/python3.10/dist-packages (from google-api-python-client) (4.1.1)\n",
            "Requirement already satisfied: googleapis-common-protos<2.0.dev0,>=1.56.2 in /usr/local/lib/python3.10/dist-packages (from google-api-core!=2.0.*,!=2.1.*,!=2.2.*,!=2.3.0,<3.0.0dev,>=1.31.5->google-api-python-client) (1.63.0)\n",
            "Requirement already satisfied: protobuf!=3.20.0,!=3.20.1,!=4.21.0,!=4.21.1,!=4.21.2,!=4.21.3,!=4.21.4,!=4.21.5,<5.0.0.dev0,>=3.19.5 in /usr/local/lib/python3.10/dist-packages (from google-api-core!=2.0.*,!=2.1.*,!=2.2.*,!=2.3.0,<3.0.0dev,>=1.31.5->google-api-python-client) (3.20.3)\n",
            "Requirement already satisfied: requests<3.0.0.dev0,>=2.18.0 in /usr/local/lib/python3.10/dist-packages (from google-api-core!=2.0.*,!=2.1.*,!=2.2.*,!=2.3.0,<3.0.0dev,>=1.31.5->google-api-python-client) (2.31.0)\n",
            "Requirement already satisfied: cachetools<6.0,>=2.0.0 in /usr/local/lib/python3.10/dist-packages (from google-auth<3.0.0dev,>=1.19.0->google-api-python-client) (5.3.3)\n",
            "Requirement already satisfied: pyasn1-modules>=0.2.1 in /usr/local/lib/python3.10/dist-packages (from google-auth<3.0.0dev,>=1.19.0->google-api-python-client) (0.4.0)\n",
            "Requirement already satisfied: rsa<5,>=3.1.4 in /usr/local/lib/python3.10/dist-packages (from google-auth<3.0.0dev,>=1.19.0->google-api-python-client) (4.9)\n",
            "Requirement already satisfied: pyparsing!=3.0.0,!=3.0.1,!=3.0.2,!=3.0.3,<4,>=2.4.2 in /usr/local/lib/python3.10/dist-packages (from httplib2<1dev,>=0.15.0->google-api-python-client) (3.1.2)\n",
            "Requirement already satisfied: pyasn1<0.7.0,>=0.4.6 in /usr/local/lib/python3.10/dist-packages (from pyasn1-modules>=0.2.1->google-auth<3.0.0dev,>=1.19.0->google-api-python-client) (0.6.0)\n",
            "Requirement already satisfied: charset-normalizer<4,>=2 in /usr/local/lib/python3.10/dist-packages (from requests<3.0.0.dev0,>=2.18.0->google-api-core!=2.0.*,!=2.1.*,!=2.2.*,!=2.3.0,<3.0.0dev,>=1.31.5->google-api-python-client) (3.3.2)\n",
            "Requirement already satisfied: idna<4,>=2.5 in /usr/local/lib/python3.10/dist-packages (from requests<3.0.0.dev0,>=2.18.0->google-api-core!=2.0.*,!=2.1.*,!=2.2.*,!=2.3.0,<3.0.0dev,>=1.31.5->google-api-python-client) (3.7)\n",
            "Requirement already satisfied: urllib3<3,>=1.21.1 in /usr/local/lib/python3.10/dist-packages (from requests<3.0.0.dev0,>=2.18.0->google-api-core!=2.0.*,!=2.1.*,!=2.2.*,!=2.3.0,<3.0.0dev,>=1.31.5->google-api-python-client) (2.0.7)\n",
            "Requirement already satisfied: certifi>=2017.4.17 in /usr/local/lib/python3.10/dist-packages (from requests<3.0.0.dev0,>=2.18.0->google-api-core!=2.0.*,!=2.1.*,!=2.2.*,!=2.3.0,<3.0.0dev,>=1.31.5->google-api-python-client) (2024.2.2)\n"
          ]
        }
      ]
    },
    {
      "cell_type": "code",
      "source": [
        "from google.colab import drive\n",
        "\n",
        "# Mount Google Drive\n",
        "drive.mount('/content/drive')\n",
        "\n",
        "# Now you can access files in your Google Drive using their path\n",
        "with open('/content/drive/MyDrive/Datasets/employee.json') as f:\n",
        "  data = json.load(f)\n",
        "\n",
        "print(data)\n",
        "\n"
      ],
      "metadata": {
        "colab": {
          "base_uri": "https://localhost:8080/"
        },
        "id": "hMpoJUkkZV92",
        "outputId": "0f57f00e-7bdc-4dfe-a36f-14fef8c75e00"
      },
      "execution_count": 61,
      "outputs": [
        {
          "output_type": "stream",
          "name": "stdout",
          "text": [
            "Drive already mounted at /content/drive; to attempt to forcibly remount, call drive.mount(\"/content/drive\", force_remount=True).\n",
            "[{'id ': 1, 'name ': 'john', 'age ': 20, 'gender': 'male', 'department': 'hr', 'salary': 500000}, {'id ': 2, 'name ': 'jane', 'age ': 23, 'gender': 'female', 'department': 'marketing', 'salary': 600000}, {'id ': 3, 'name ': 'joey', 'age ': 23, 'gender': 'male', 'department': 'it', 'salary': 300000}, {'id ': 4, 'name ': 'sarah', 'age ': 25, 'gender': 'female', 'department': 'hr', 'salary': 450000}, {'id ': 5, 'name ': 'rose', 'age ': 28, 'gender': 'male', 'department': 'hr', 'salary': 700000}, {'id ': 6, 'name ': 'bing', 'age ': 29, 'gender': 'male', 'department': 'finance', 'salary': 800000}, {'id ': 7, 'name ': 'rach', 'age ': 41, 'gender': 'female', 'department': 'it', 'salary': 600000}, {'id ': 8, 'name ': 'monica', 'age ': 23, 'gender': 'female', 'department': 'marketing', 'salary': 7000000}, {'id ': 9, 'name ': 'pheebe', 'age ': 35, 'gender': 'female', 'department': 'it', 'salary': 4000000}]\n"
          ]
        }
      ]
    },
    {
      "cell_type": "code",
      "source": [
        "with open('/content/drive/MyDrive/Datasets/employee.json') as f:\n",
        "  data = json.load(f)\n",
        "\n",
        "print(data)"
      ],
      "metadata": {
        "colab": {
          "base_uri": "https://localhost:8080/"
        },
        "id": "XmGBfZfmdmY2",
        "outputId": "2faa60a0-5225-45ce-d4ba-73080a4a9d46"
      },
      "execution_count": 93,
      "outputs": [
        {
          "output_type": "stream",
          "name": "stdout",
          "text": [
            "[{'id ': 1, 'name ': 'john', 'age ': 20, 'gender': 'male', 'department': 'hr', 'salary': 500000}, {'id ': 2, 'name ': 'jane', 'age ': 23, 'gender': 'female', 'department': 'marketing', 'salary': 600000}, {'id ': 3, 'name ': 'joey', 'age ': 23, 'gender': 'male', 'department': 'it', 'salary': 300000}, {'id ': 4, 'name ': 'sarah', 'age ': 25, 'gender': 'female', 'department': 'hr', 'salary': 450000}, {'id ': 5, 'name ': 'rose', 'age ': 28, 'gender': 'male', 'department': 'hr', 'salary': 700000}, {'id ': 6, 'name ': 'bing', 'age ': 29, 'gender': 'male', 'department': 'finance', 'salary': 800000}, {'id ': 7, 'name ': 'rach', 'age ': 41, 'gender': 'female', 'department': 'it', 'salary': 600000}, {'id ': 8, 'name ': 'monica', 'age ': 23, 'gender': 'female', 'department': 'marketing', 'salary': 7000000}, {'id ': 9, 'name ': 'pheebe', 'age ': 35, 'gender': 'female', 'department': 'it', 'salary': 4000000}]\n"
          ]
        }
      ]
    },
    {
      "cell_type": "code",
      "source": [
        "data[0] #indexing element at 0th index"
      ],
      "metadata": {
        "colab": {
          "base_uri": "https://localhost:8080/"
        },
        "id": "PRrCkFtYc2r5",
        "outputId": "eab2ef76-55a5-4c00-fa50-a140c7e1244e"
      },
      "execution_count": 83,
      "outputs": [
        {
          "output_type": "execute_result",
          "data": {
            "text/plain": [
              "{'id ': 1,\n",
              " 'name ': 'john',\n",
              " 'age ': 20,\n",
              " 'gender': 'male',\n",
              " 'department': 'hr',\n",
              " 'salary': 500000}"
            ]
          },
          "metadata": {},
          "execution_count": 83
        }
      ]
    },
    {
      "cell_type": "code",
      "source": [
        "data[2] #indexing element at 1st index"
      ],
      "metadata": {
        "colab": {
          "base_uri": "https://localhost:8080/"
        },
        "id": "jeI2-wG_dzHm",
        "outputId": "9acc46f7-b2a1-43ee-9cdb-a7c178853ca4"
      },
      "execution_count": 84,
      "outputs": [
        {
          "output_type": "execute_result",
          "data": {
            "text/plain": [
              "{'id ': 3,\n",
              " 'name ': 'joey',\n",
              " 'age ': 23,\n",
              " 'gender': 'male',\n",
              " 'department': 'it',\n",
              " 'salary': 300000}"
            ]
          },
          "metadata": {},
          "execution_count": 84
        }
      ]
    },
    {
      "cell_type": "code",
      "source": [
        "#if you want to acces the name or items in these indexes\n",
        "#firstly assign them to a variable\n",
        "employee = data[2]\n",
        "salary = employee['salary']\n",
        "dept = employee['department']\n",
        "print(f'''salary is {salary}\n",
        "and Department is {dept}''')"
      ],
      "metadata": {
        "colab": {
          "base_uri": "https://localhost:8080/"
        },
        "id": "t7ckkGkPd1TR",
        "outputId": "c0db58d9-20dc-44c9-cd85-af5ec67c488a"
      },
      "execution_count": 87,
      "outputs": [
        {
          "output_type": "stream",
          "name": "stdout",
          "text": [
            "salary is 300000\n",
            "and Department is it\n"
          ]
        }
      ]
    },
    {
      "cell_type": "code",
      "source": [
        "## Change the department of employee at index 2 to 'hr' and increase the salary by 20%\n",
        "employee = data[2]\n",
        "print('old data')\n",
        "print(employee)\n",
        "\n",
        "\n"
      ],
      "metadata": {
        "colab": {
          "base_uri": "https://localhost:8080/"
        },
        "id": "EUM3o6alerC0",
        "outputId": "dad88f0d-db88-457b-e308-c581a6830cf1"
      },
      "execution_count": 94,
      "outputs": [
        {
          "output_type": "stream",
          "name": "stdout",
          "text": [
            "old data\n",
            "{'id ': 3, 'name ': 'joey', 'age ': 23, 'gender': 'male', 'department': 'it', 'salary': 300000}\n"
          ]
        }
      ]
    },
    {
      "cell_type": "code",
      "source": [
        "emp_d= employee['department']='hr'\n",
        "emp_s = employee['salary']=employee['salary']*1.2\n",
        "\n",
        "print(\"New Data: \")\n",
        "print(employee)\n",
        ""
      ],
      "metadata": {
        "colab": {
          "base_uri": "https://localhost:8080/"
        },
        "id": "gPafiC9Af9aP",
        "outputId": "038c8dae-cd19-4279-fb3a-af930752ab1e"
      },
      "execution_count": 95,
      "outputs": [
        {
          "output_type": "stream",
          "name": "stdout",
          "text": [
            "New Data: \n",
            "{'id ': 3, 'name ': 'joey', 'age ': 23, 'gender': 'male', 'department': 'hr', 'salary': 360000.0}\n"
          ]
        }
      ]
    },
    {
      "cell_type": "code",
      "source": [],
      "metadata": {
        "id": "dW2jpJp4if0M"
      },
      "execution_count": null,
      "outputs": []
    }
  ]
}