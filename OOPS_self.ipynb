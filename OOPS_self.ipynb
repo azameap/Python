{
  "nbformat": 4,
  "nbformat_minor": 0,
  "metadata": {
    "colab": {
      "provenance": [],
      "authorship_tag": "ABX9TyPnHlwsbnQkVdlkXyc5a36N",
      "include_colab_link": true
    },
    "kernelspec": {
      "name": "python3",
      "display_name": "Python 3"
    },
    "language_info": {
      "name": "python"
    }
  },
  "cells": [
    {
      "cell_type": "markdown",
      "metadata": {
        "id": "view-in-github",
        "colab_type": "text"
      },
      "source": [
        "<a href=\"https://colab.research.google.com/github/azameap/Python/blob/main/OOPS_self.ipynb\" target=\"_parent\"><img src=\"https://colab.research.google.com/assets/colab-badge.svg\" alt=\"Open In Colab\"/></a>"
      ]
    },
    {
      "cell_type": "code",
      "execution_count": null,
      "metadata": {
        "id": "tuuEQms-QihQ"
      },
      "outputs": [],
      "source": [
        "#What is OOPs in python?\n",
        "#Object oriented programming language ----> Programming paradigm which is based on the concept of object;\n",
        "#In this, programs move around objects: also they can interact with each other\n",
        "#main work of OOPs is to bind the data and the function together as a single unit.\n",
        "\n",
        "#What is a class?\n",
        "#In OOPs we define real life entities as class, these classes have attributes and methods(behaviour)\n"
      ]
    },
    {
      "cell_type": "code",
      "source": [
        "class Student:\n",
        "  name = \"Azam\""
      ],
      "metadata": {
        "id": "5zXYGXQN-sFZ"
      },
      "execution_count": null,
      "outputs": []
    },
    {
      "cell_type": "code",
      "source": [
        "s1 = Student()\n",
        "print(s1.name)"
      ],
      "metadata": {
        "colab": {
          "base_uri": "https://localhost:8080/"
        },
        "id": "znccafHD-5yK",
        "outputId": "ec5aad0a-23d2-4934-a9f5-055741b9b90c"
      },
      "execution_count": null,
      "outputs": [
        {
          "output_type": "stream",
          "name": "stdout",
          "text": [
            "Azam\n"
          ]
        }
      ]
    },
    {
      "cell_type": "code",
      "source": [
        "# constructor __init__ function\n",
        "# invokes during object creation\n",
        "# when object is initiated init function is initiated\n",
        "# how to write it yourself\n"
      ],
      "metadata": {
        "id": "659qaO_B_Az_"
      },
      "execution_count": null,
      "outputs": []
    },
    {
      "cell_type": "code",
      "source": [
        "class Student:\n",
        "  def __init__(self,name):\n",
        "    self.name = name\n",
        "    print(\"New student in database......\")\n"
      ],
      "metadata": {
        "id": "dSFEc2an_tT-"
      },
      "execution_count": null,
      "outputs": []
    },
    {
      "cell_type": "code",
      "source": [
        "s1 = Student('Azam')\n",
        "print(s1.name)\n",
        "\n",
        "s2 = Student('Manan')\n",
        "print(s2.name)"
      ],
      "metadata": {
        "colab": {
          "base_uri": "https://localhost:8080/"
        },
        "id": "5tDSHoYQ_J1x",
        "outputId": "7e1ef306-8966-498f-8aa9-e411b119fc61"
      },
      "execution_count": null,
      "outputs": [
        {
          "output_type": "stream",
          "name": "stdout",
          "text": [
            "New student in database......\n",
            "Azam\n",
            "New student in database......\n",
            "Manan\n"
          ]
        }
      ]
    },
    {
      "cell_type": "code",
      "source": [
        "# data stored inside the class is called attribute"
      ],
      "metadata": {
        "id": "EBxBJJvCA-LE"
      },
      "execution_count": null,
      "outputs": []
    },
    {
      "cell_type": "code",
      "source": [
        "#Create a student class that  takrs name and marks of 3\n",
        "#subjects as arguments in constructor.\n",
        "#Then create a method to print average\n",
        "\n",
        "class Student:\n",
        "    def __init__(self,name,marks):\n",
        "        self.name = name\n",
        "        self.marks = marks\n",
        "\n",
        "    def get_avg(self):\n",
        "        sum = 0\n",
        "        for i in self.marks:\n",
        "            sum += i\n",
        "        print(f\"Hi {self.name}, Your average score is {sum/3}\")\n",
        "\n",
        "s1 = Student('Azam',[99,98,97])\n",
        "s1.get_avg()\n"
      ],
      "metadata": {
        "colab": {
          "base_uri": "https://localhost:8080/"
        },
        "id": "zNgCcRMSrvf_",
        "outputId": "0ba1524f-6af1-4cf6-c745-1d50ca30c27c"
      },
      "execution_count": null,
      "outputs": [
        {
          "output_type": "stream",
          "name": "stdout",
          "text": [
            "Hi Azam, Your average score is 98.0\n"
          ]
        }
      ]
    },
    {
      "cell_type": "code",
      "source": [
        "# Create account class with 2 attributes, Balance and account number,\n",
        "#create method for debit, credit, and printing balance.\n",
        "\n",
        "class Account:\n",
        "  def __init__(self, balance, account_no):\n",
        "     self.balance = balance               #Here you can use any name to define balance after self. eg('bal',bal_1) anything\n",
        "     self.account_no = account_no\n",
        "\n",
        "# now define function for debit\n",
        "  def debit(self,amount):\n",
        "    self.balance -= amount\n",
        "    print(f\"Rs {amount} was debited\")\n",
        "    print(f\"Total balance is {self.get_balance()}\")\n",
        "\n",
        "  def credit(self,amount):\n",
        "    self.balance += amount\n",
        "    print(f\"Rs {amount} was credited\")\n",
        "    print(f\"Total balance is {self.get_balance}\")\n",
        "\n",
        "  def get_balance(self):\n",
        "    return self.balance\n",
        "\n",
        "\n",
        "acc1 = Account(10000,12345)\n",
        "print(acc1.balance)\n",
        "print(acc1.account_no)\n",
        "\n",
        "\n",
        "acc1.debit(1000)\n",
        "acc1.credit(5000)\n",
        "acc1.credit(40000)\n",
        "acc1.debit(5000)"
      ],
      "metadata": {
        "colab": {
          "base_uri": "https://localhost:8080/"
        },
        "id": "QOqCdYyk4H_r",
        "outputId": "14ec1258-07ea-40cd-8b12-f2eda2e0678b"
      },
      "execution_count": null,
      "outputs": [
        {
          "output_type": "stream",
          "name": "stdout",
          "text": [
            "10000\n",
            "12345\n",
            "Rs 1000 was debited\n",
            "Total balance is 9000\n",
            "Rs 5000 was credited\n",
            "Total balance is 14000\n",
            "Rs 40000 was credited\n",
            "Total balance is 54000\n",
            "Rs 5000 was debited\n",
            "Total balance is 49000\n"
          ]
        }
      ]
    },
    {
      "cell_type": "code",
      "source": [
        "#Question 1: In the given Python code, what does the class Car represent?\n",
        "\n",
        "#The Class Car represents a **blueprint** for creating car objects.\n",
        "#It defines the common properties and behaviors that car objects can have,\n",
        "#such as make, model, year, and engine status. Each instance of the Car class can store\n",
        "#specific values for these properties and can perform actions like starting or stopping the engine."
      ],
      "metadata": {
        "id": "Po84D0CW65gV"
      },
      "execution_count": null,
      "outputs": []
    },
    {
      "cell_type": "code",
      "source": [
        "# create a class with method to greet\n",
        "class Person:\n",
        "  def __init__(self,name,age):\n",
        "    self.name = name\n",
        "    self.age = age\n",
        "\n",
        "  def greet(self):\n",
        "    print(f\"Hi, My my name is {self.name}\")\n",
        "\n",
        "p1 = Person('Azam','27')\n",
        "\n",
        "p1.greet()\n"
      ],
      "metadata": {
        "colab": {
          "base_uri": "https://localhost:8080/"
        },
        "id": "7zHBDRHixvUq",
        "outputId": "8e192ff5-4133-46e1-a157-ee94a05f96e9"
      },
      "execution_count": null,
      "outputs": [
        {
          "output_type": "stream",
          "name": "stdout",
          "text": [
            "Hi, My my name is Azam\n"
          ]
        }
      ]
    },
    {
      "cell_type": "code",
      "source": [
        "# make a calculator\n",
        "class Calculator:\n",
        "  def __init__(self,num1,num2):\n",
        "    self.num1 = num1\n",
        "    self.num2 = num2\n",
        "\n",
        "  def add(self):\n",
        "    print(f\"The sum of {self.num1} and {self.num2} is {self.num1 + self.num2}\")\n",
        "\n",
        "  def sub(self):\n",
        "    print(f\"The diffrence of {self.num1} and {self.num2} is {self.num1 - self.num2}\")\n",
        "\n",
        "  def product(self):\n",
        "    print(f\"The product of {self.num1} and {self.num2} is {self.num1 * self.num2}\")\n",
        "\n",
        "  def div(self):\n",
        "      print(f\"The division of {self.num1} and {self.num2} is {self.num1 / self.num2}\")\n",
        "\n",
        "\n",
        "\n",
        "\n",
        "n1 = Calculator(10,20)\n",
        "n1.num1"
      ],
      "metadata": {
        "colab": {
          "base_uri": "https://localhost:8080/"
        },
        "id": "Pc0WrGjpzm6-",
        "outputId": "7d2f2c34-495a-4977-9889-6f0073584fbc"
      },
      "execution_count": null,
      "outputs": [
        {
          "output_type": "execute_result",
          "data": {
            "text/plain": [
              "10"
            ]
          },
          "metadata": {},
          "execution_count": 16
        }
      ]
    },
    {
      "cell_type": "code",
      "source": [
        "n1.add()\n",
        "n1.div()"
      ],
      "metadata": {
        "colab": {
          "base_uri": "https://localhost:8080/"
        },
        "id": "o8v219O62TlV",
        "outputId": "dc9687ae-37c1-4e04-b560-7581370043e3"
      },
      "execution_count": null,
      "outputs": [
        {
          "output_type": "stream",
          "name": "stdout",
          "text": [
            "The sum of 10 and 20 is 30\n",
            "The division of 10 and 20 is 0.5\n"
          ]
        }
      ]
    },
    {
      "cell_type": "code",
      "source": [
        "#Dek Key word In OOPs\n",
        "class Student:\n",
        "  def __init__(self,name):\n",
        "    self.name = name\n",
        "\n",
        "\n",
        "s1 = Student(\"Azam\")\n",
        "s1.name\n",
        "#Now use the del function\n",
        "#del s1.name\n",
        "print(s1.name)  ## error because it deleted the attribute name\n",
        "#We can del the whole object also see,\n",
        "\n",
        "class Student:\n",
        "  def __init__(self,name):\n",
        "    self.name = name\n",
        "\n",
        "\n",
        "s1 = Student(\"Azam\")\n",
        "s1.name\n",
        "#Now use the del function to delete the object\n",
        "del s1\n",
        "print(s1.name) # here it will show error that there is no S1 defined"
      ],
      "metadata": {
        "colab": {
          "base_uri": "https://localhost:8080/",
          "height": 193
        },
        "id": "eKeirxp_MOjL",
        "outputId": "0733dc54-4347-497e-860e-445047524fa8"
      },
      "execution_count": 7,
      "outputs": [
        {
          "output_type": "stream",
          "name": "stdout",
          "text": [
            "Azam\n"
          ]
        },
        {
          "output_type": "error",
          "ename": "NameError",
          "evalue": "name 's1' is not defined",
          "traceback": [
            "\u001b[0;31m---------------------------------------------------------------------------\u001b[0m",
            "\u001b[0;31mNameError\u001b[0m                                 Traceback (most recent call last)",
            "\u001b[0;32m<ipython-input-7-c0fe68d27c2e>\u001b[0m in \u001b[0;36m<cell line: 23>\u001b[0;34m()\u001b[0m\n\u001b[1;32m     21\u001b[0m \u001b[0;31m#Now use the del function to delete the object\u001b[0m\u001b[0;34m\u001b[0m\u001b[0;34m\u001b[0m\u001b[0m\n\u001b[1;32m     22\u001b[0m \u001b[0;32mdel\u001b[0m \u001b[0ms1\u001b[0m\u001b[0;34m\u001b[0m\u001b[0;34m\u001b[0m\u001b[0m\n\u001b[0;32m---> 23\u001b[0;31m \u001b[0mprint\u001b[0m\u001b[0;34m(\u001b[0m\u001b[0ms1\u001b[0m\u001b[0;34m.\u001b[0m\u001b[0mname\u001b[0m\u001b[0;34m)\u001b[0m \u001b[0;31m# here it will show error that there is no S1 defined\u001b[0m\u001b[0;34m\u001b[0m\u001b[0;34m\u001b[0m\u001b[0m\n\u001b[0m",
            "\u001b[0;31mNameError\u001b[0m: name 's1' is not defined"
          ]
        }
      ]
    },
    {
      "cell_type": "code",
      "source": [
        "# Another concept is Private Attribute and Methods\n",
        "#if there is something sensitive and you dont want to pass it outside the class\n",
        "# example\n",
        "class Account:\n",
        "  def __init__(self,acc,pas):\n",
        "    self.acc = acc\n",
        "    self.pas = pas\n",
        "\n",
        "Acc1 = Account('1234','abcd')\n",
        "print(Acc1.acc)\n",
        "print(Acc1.pas)"
      ],
      "metadata": {
        "colab": {
          "base_uri": "https://localhost:8080/"
        },
        "id": "5Af3b-8uM0ac",
        "outputId": "857c17ca-6b08-4b21-e608-1c50888e588a"
      },
      "execution_count": 11,
      "outputs": [
        {
          "output_type": "stream",
          "name": "stdout",
          "text": [
            "1234\n",
            "abcd\n"
          ]
        }
      ]
    },
    {
      "cell_type": "code",
      "source": [
        "#Here its passed outside class lets see how to keep it private\n",
        "class Account:\n",
        "  def __init__(self,acc,pas):\n",
        "    self.acc = acc\n",
        "    self.pas = pas\n",
        "\n",
        "Acc1 = Account('1234','abcd')\n",
        "print(Acc1.acc)\n",
        "print(Acc1.pas)\n"
      ],
      "metadata": {
        "colab": {
          "base_uri": "https://localhost:8080/"
        },
        "id": "hbLLycAhOna9",
        "outputId": "aa9aaea3-602a-4a80-91da-c76dd80c5819"
      },
      "execution_count": 14,
      "outputs": [
        {
          "output_type": "stream",
          "name": "stdout",
          "text": [
            "1234\n",
            "abcd\n"
          ]
        }
      ]
    },
    {
      "cell_type": "code",
      "source": [
        "class Account:\n",
        "  def __init__(self,acc,pas):\n",
        "    self.acc = acc\n",
        "    self.__pas = pas # here we add a double underscore infront of this password\n",
        "\n",
        "  def reset(self): # lets define a reset password function\n",
        "    print(self.__pas)\n",
        "\n",
        "Acc1 = Account('1234','abcd')\n",
        "print(Acc1.acc)\n",
        "print(Acc1.pas)\n",
        "# if we run the above code it will show error but if we call the reset function\n",
        "#it will work"
      ],
      "metadata": {
        "colab": {
          "base_uri": "https://localhost:8080/",
          "height": 228
        },
        "id": "C37hgvt6QTFo",
        "outputId": "96ef7cc9-64b9-4bae-f013-e44036e67ff5"
      },
      "execution_count": 20,
      "outputs": [
        {
          "output_type": "stream",
          "name": "stdout",
          "text": [
            "1234\n"
          ]
        },
        {
          "output_type": "error",
          "ename": "AttributeError",
          "evalue": "'Account' object has no attribute 'pas'",
          "traceback": [
            "\u001b[0;31m---------------------------------------------------------------------------\u001b[0m",
            "\u001b[0;31mAttributeError\u001b[0m                            Traceback (most recent call last)",
            "\u001b[0;32m<ipython-input-20-6aaba75650be>\u001b[0m in \u001b[0;36m<cell line: 11>\u001b[0;34m()\u001b[0m\n\u001b[1;32m      9\u001b[0m \u001b[0mAcc1\u001b[0m \u001b[0;34m=\u001b[0m \u001b[0mAccount\u001b[0m\u001b[0;34m(\u001b[0m\u001b[0;34m'1234'\u001b[0m\u001b[0;34m,\u001b[0m\u001b[0;34m'abcd'\u001b[0m\u001b[0;34m)\u001b[0m\u001b[0;34m\u001b[0m\u001b[0;34m\u001b[0m\u001b[0m\n\u001b[1;32m     10\u001b[0m \u001b[0mprint\u001b[0m\u001b[0;34m(\u001b[0m\u001b[0mAcc1\u001b[0m\u001b[0;34m.\u001b[0m\u001b[0macc\u001b[0m\u001b[0;34m)\u001b[0m\u001b[0;34m\u001b[0m\u001b[0;34m\u001b[0m\u001b[0m\n\u001b[0;32m---> 11\u001b[0;31m \u001b[0mprint\u001b[0m\u001b[0;34m(\u001b[0m\u001b[0mAcc1\u001b[0m\u001b[0;34m.\u001b[0m\u001b[0mpas\u001b[0m\u001b[0;34m)\u001b[0m\u001b[0;34m\u001b[0m\u001b[0;34m\u001b[0m\u001b[0m\n\u001b[0m\u001b[1;32m     12\u001b[0m \u001b[0;31m# if we run the above code it will show error but if we call the reset function\u001b[0m\u001b[0;34m\u001b[0m\u001b[0;34m\u001b[0m\u001b[0m\n\u001b[1;32m     13\u001b[0m \u001b[0;31m#it will work\u001b[0m\u001b[0;34m\u001b[0m\u001b[0;34m\u001b[0m\u001b[0m\n",
            "\u001b[0;31mAttributeError\u001b[0m: 'Account' object has no attribute 'pas'"
          ]
        }
      ]
    },
    {
      "cell_type": "code",
      "source": [
        "class Account:\n",
        "  def __init__(self,acc,pas):\n",
        "    self.acc = acc\n",
        "    self.__pas = pas\n",
        "\n",
        "  def reset(self):\n",
        "    print(self.__pas)\n",
        "\n",
        "Acc1 = Account('1234','abcd')\n",
        "print(Acc1.acc)\n",
        "print(Acc1.reset())\n",
        "# Anything we want to keep in class, we use private\n",
        "#Also it will be like private not in acctual sense"
      ],
      "metadata": {
        "colab": {
          "base_uri": "https://localhost:8080/"
        },
        "id": "VbosVpBzQ-kY",
        "outputId": "4d6fb91a-eef5-4ad1-cc9e-b31ca8aa063b"
      },
      "execution_count": 21,
      "outputs": [
        {
          "output_type": "stream",
          "name": "stdout",
          "text": [
            "1234\n",
            "abcd\n",
            "None\n"
          ]
        }
      ]
    },
    {
      "cell_type": "code",
      "source": [
        "class Person:\n",
        "  __name = 'Anonymous'\n",
        "\n",
        "p1 = Person()\n",
        "p1.name # error because we used __ in name so its private conceptually"
      ],
      "metadata": {
        "colab": {
          "base_uri": "https://localhost:8080/",
          "height": 176
        },
        "id": "cn63YEFTRkD8",
        "outputId": "b95693d2-ed36-4591-f259-6a3690e23be1"
      },
      "execution_count": 22,
      "outputs": [
        {
          "output_type": "error",
          "ename": "AttributeError",
          "evalue": "'Person' object has no attribute 'name'",
          "traceback": [
            "\u001b[0;31m---------------------------------------------------------------------------\u001b[0m",
            "\u001b[0;31mAttributeError\u001b[0m                            Traceback (most recent call last)",
            "\u001b[0;32m<ipython-input-22-d08d5c38cbbd>\u001b[0m in \u001b[0;36m<cell line: 5>\u001b[0;34m()\u001b[0m\n\u001b[1;32m      3\u001b[0m \u001b[0;34m\u001b[0m\u001b[0m\n\u001b[1;32m      4\u001b[0m \u001b[0mp1\u001b[0m \u001b[0;34m=\u001b[0m \u001b[0mPerson\u001b[0m\u001b[0;34m(\u001b[0m\u001b[0;34m)\u001b[0m\u001b[0;34m\u001b[0m\u001b[0;34m\u001b[0m\u001b[0m\n\u001b[0;32m----> 5\u001b[0;31m \u001b[0mp1\u001b[0m\u001b[0;34m.\u001b[0m\u001b[0mname\u001b[0m\u001b[0;34m\u001b[0m\u001b[0;34m\u001b[0m\u001b[0m\n\u001b[0m",
            "\u001b[0;31mAttributeError\u001b[0m: 'Person' object has no attribute 'name'"
          ]
        }
      ]
    },
    {
      "cell_type": "code",
      "source": [
        "class Person:\n",
        "  __name = 'Anonymous'\n",
        "\n",
        "  def __hello(self):\n",
        "    print(\"Hello Person\")\n",
        "\n",
        "p1 = Person()\n",
        "print(p1.__hello()) #Again Error\n"
      ],
      "metadata": {
        "colab": {
          "base_uri": "https://localhost:8080/",
          "height": 176
        },
        "id": "fXkh9xrrSQ-U",
        "outputId": "505aba79-d196-46bf-8bc9-5157f6613e3f"
      },
      "execution_count": 23,
      "outputs": [
        {
          "output_type": "error",
          "ename": "AttributeError",
          "evalue": "'Person' object has no attribute '__hello'",
          "traceback": [
            "\u001b[0;31m---------------------------------------------------------------------------\u001b[0m",
            "\u001b[0;31mAttributeError\u001b[0m                            Traceback (most recent call last)",
            "\u001b[0;32m<ipython-input-23-b07193d5f8a8>\u001b[0m in \u001b[0;36m<cell line: 8>\u001b[0;34m()\u001b[0m\n\u001b[1;32m      6\u001b[0m \u001b[0;34m\u001b[0m\u001b[0m\n\u001b[1;32m      7\u001b[0m \u001b[0mp1\u001b[0m \u001b[0;34m=\u001b[0m \u001b[0mPerson\u001b[0m\u001b[0;34m(\u001b[0m\u001b[0;34m)\u001b[0m\u001b[0;34m\u001b[0m\u001b[0;34m\u001b[0m\u001b[0m\n\u001b[0;32m----> 8\u001b[0;31m \u001b[0mprint\u001b[0m\u001b[0;34m(\u001b[0m\u001b[0mp1\u001b[0m\u001b[0;34m.\u001b[0m\u001b[0m__hello\u001b[0m\u001b[0;34m(\u001b[0m\u001b[0;34m)\u001b[0m\u001b[0;34m)\u001b[0m\u001b[0;34m\u001b[0m\u001b[0;34m\u001b[0m\u001b[0m\n\u001b[0m",
            "\u001b[0;31mAttributeError\u001b[0m: 'Person' object has no attribute '__hello'"
          ]
        }
      ]
    },
    {
      "cell_type": "code",
      "source": [
        "class Person:\n",
        "  __name = 'Anonymous'\n",
        "\n",
        "  def __hello(self):\n",
        "    print(\"Hello Person\")\n",
        "\n",
        "  def welcome(self): #becasuse its a method of class it call call hello. only internal function can access\n",
        "  # used to prevent exposing our insrtance attribute outside class\n",
        "    self.__hello()\n",
        "\n",
        "p1 = Person()\n",
        "print(p1.welcome())"
      ],
      "metadata": {
        "colab": {
          "base_uri": "https://localhost:8080/"
        },
        "id": "80JwS_k6Spfl",
        "outputId": "83d2e0e2-6231-42a9-841c-6f716cf0bdaf"
      },
      "execution_count": 24,
      "outputs": [
        {
          "output_type": "stream",
          "name": "stdout",
          "text": [
            "Hello Person\n",
            "None\n"
          ]
        }
      ]
    },
    {
      "cell_type": "code",
      "source": [
        "# Inheritance\n",
        "#One class derives properties and methods from another class\n",
        "\n",
        "class Car:\n",
        "\n",
        "class Toyota(car) #This will inherit all the logic of the parent"
      ],
      "metadata": {
        "id": "y0S1gzavTThN"
      },
      "execution_count": null,
      "outputs": []
    },
    {
      "cell_type": "code",
      "source": [
        "class Car:\n",
        "  color = 'black'\n",
        "  @staticmethod\n",
        "  def start():\n",
        "    print('Car Started')\n",
        "  @staticmethod\n",
        "  def stop():\n",
        "    print('Car Stopped')\n",
        "\n",
        "class Toyota(Car):\n",
        "  def __init__(self,name):\n",
        "    self.name = name\n",
        "\n",
        "\n",
        "car1 = Toyota(\"Fortuner\")\n",
        "car2 = Toyota(\"privus\")\n",
        "print(car1.name)\n",
        "\n",
        "print(car1.start()) # here Toyota ingerited the property of Car\n",
        "print(car1.color)"
      ],
      "metadata": {
        "colab": {
          "base_uri": "https://localhost:8080/"
        },
        "id": "rPg327-5UCK9",
        "outputId": "5b0c8311-41f0-46d1-e4dd-9f0ec9949c26"
      },
      "execution_count": 28,
      "outputs": [
        {
          "output_type": "stream",
          "name": "stdout",
          "text": [
            "Fortuner\n",
            "Car Started\n",
            "None\n",
            "black\n"
          ]
        }
      ]
    },
    {
      "cell_type": "code",
      "source": [
        "#There is one concept called Super Method\n",
        "#Used to access method of parent class\n",
        "class Car:\n",
        "  def __init__(self,type):\n",
        "    self.type = type\n",
        "  @staticmethod\n",
        "  def start():\n",
        "    print('Car Started')\n",
        "  @staticmethod\n",
        "  def stop():\n",
        "    print('Car Stopped')\n",
        "\n",
        "class Toyota(Car):\n",
        "  def __init__(self,name,type): #if we write self.type here we call type of toyota but we want to call type of parent class:here we use super method()\n",
        "    self.name = name\n",
        "    super().__init__(type)\n",
        "    super().start() # this says when we create a car ,car should  be started\n",
        "# we want to call any method of our parent class we use super\n",
        "\n",
        "car1 = Toyota('Fortuner','Electric')\n",
        "print(car1.type)\n"
      ],
      "metadata": {
        "colab": {
          "base_uri": "https://localhost:8080/"
        },
        "id": "C3_cXuewagYP",
        "outputId": "f08a727b-8417-4eb3-ec6e-3f60254ae471"
      },
      "execution_count": 46,
      "outputs": [
        {
          "output_type": "stream",
          "name": "stdout",
          "text": [
            "Car Started\n",
            "Electric\n"
          ]
        }
      ]
    },
    {
      "cell_type": "code",
      "source": [
        "#ClassMethod VS Static Method Decorator\n",
        "#SD: for every new object it would not be created again and again\n",
        "#Remains same for whole class\n",
        "#Does not acess Instance attribute\n",
        "#problem: Cannot change class state: meaning: cannot modify class"
      ],
      "metadata": {
        "id": "bHqtli_GahE3"
      },
      "execution_count": null,
      "outputs": []
    },
    {
      "cell_type": "code",
      "source": [
        "class Person:\n",
        "  name = 'anonymous'\n",
        "\n",
        "  def change(self,name):\n",
        "    self.__class__.name = 'Azam' ##This can also be done\n",
        "\n",
        "p1 = Person()\n",
        "p1.change('Azam')\n",
        "p1.name\n",
        "print(Person.name) #here its still there it has not changed by using def(change)"
      ],
      "metadata": {
        "colab": {
          "base_uri": "https://localhost:8080/"
        },
        "id": "69rn2vdAdZ1x",
        "outputId": "f75c4534-4deb-438e-d180-b47d9b78fffc"
      },
      "execution_count": 49,
      "outputs": [
        {
          "output_type": "stream",
          "name": "stdout",
          "text": [
            "anonymous\n"
          ]
        }
      ]
    },
    {
      "cell_type": "code",
      "source": [
        "class Person:\n",
        "  name = 'anonymous'\n",
        "\n",
        "  @classmethod\n",
        "  def change(cls,name):\n",
        "    cls.name = name\n",
        "\n",
        "\n",
        "p1 = Person()\n",
        "p1.change('Azam')\n",
        "p1.name\n",
        "print(Person.name)"
      ],
      "metadata": {
        "colab": {
          "base_uri": "https://localhost:8080/"
        },
        "id": "kXDIvMAFesPI",
        "outputId": "74e5ada4-eedb-48ef-ff7e-3b43e279ff78"
      },
      "execution_count": 50,
      "outputs": [
        {
          "output_type": "stream",
          "name": "stdout",
          "text": [
            "Azam\n"
          ]
        }
      ]
    },
    {
      "cell_type": "code",
      "source": [
        "#Property Decorator\n",
        "class Student:\n",
        "  def __init__(self,phy,che):\n",
        "    self.phy = phy\n",
        "    self.che = che\n",
        "    self.percentage = (f\"{(self.phy + self.che)/2}%\")\n",
        "\n",
        "\n",
        "s1 = Student(98,99)\n",
        "s1.percentage\n"
      ],
      "metadata": {
        "colab": {
          "base_uri": "https://localhost:8080/",
          "height": 35
        },
        "id": "My5QgXJ1fVWL",
        "outputId": "06dbd671-5ff5-45a8-fb9b-0dc5a01b11d6"
      },
      "execution_count": 52,
      "outputs": [
        {
          "output_type": "execute_result",
          "data": {
            "text/plain": [
              "'98.5%'"
            ],
            "application/vnd.google.colaboratory.intrinsic+json": {
              "type": "string"
            }
          },
          "metadata": {},
          "execution_count": 52
        }
      ]
    },
    {
      "cell_type": "code",
      "source": [
        "#Now in the above if the teacher finds out she has done an error in writing the marks of the student\n",
        "class Student:\n",
        "  def __init__(self,phy,che):\n",
        "    self.phy = phy\n",
        "    self.che = che\n",
        "    self.percentage = (f\"{(self.phy + self.che)/2}%\")\n",
        "\n",
        "\n",
        "s1 = Student(98,99)\n",
        "s1.percentage\n",
        "s1.phy = 86\n",
        "print(s1.phy)\n",
        "print(s1.percentage) #But percentage is same and it did not change we need a method where we change the number and percentage automatically changes"
      ],
      "metadata": {
        "colab": {
          "base_uri": "https://localhost:8080/"
        },
        "id": "edeHJav0gtkV",
        "outputId": "ce477f9d-f85b-48c8-b43f-22ae6406942c"
      },
      "execution_count": 54,
      "outputs": [
        {
          "output_type": "stream",
          "name": "stdout",
          "text": [
            "86\n",
            "98.5%\n"
          ]
        }
      ]
    },
    {
      "cell_type": "code",
      "source": [
        "class Student:\n",
        "  def __init__(self,phy,che):\n",
        "    self.phy = phy\n",
        "    self.che = che\n",
        "    self.percentage = (f\"{(self.phy + self.che)/2}%\")\n",
        "\n",
        "  def calpercent(self):\n",
        "     self.percentage = (f\"{(self.phy + self.che)/2}%\")\n",
        "\n",
        "\n",
        "s1 = Student(98,99)\n",
        "s1.phy = 86\n",
        "print(s1.phy)\n",
        "s1.calpercent() # first call the function\n",
        "print(s1.percentage) # then print percentage"
      ],
      "metadata": {
        "colab": {
          "base_uri": "https://localhost:8080/"
        },
        "id": "zvk4MWhFhUbf",
        "outputId": "2fe3a8b9-b0f1-4987-962a-112bd1cb286e"
      },
      "execution_count": 61,
      "outputs": [
        {
          "output_type": "stream",
          "name": "stdout",
          "text": [
            "86\n",
            "92.5%\n"
          ]
        }
      ]
    },
    {
      "cell_type": "code",
      "source": [
        "#Another Method\n",
        "#Property Decorator\n",
        "class Student:\n",
        "  def __init__(self,phy,che):\n",
        "    self.phy = phy\n",
        "    self.che = che\n",
        "\n",
        "\n",
        "  @property  ##Automatic change\n",
        "  def percentage(self):\n",
        "    return (f\"{(self.phy + self.che)/2}%\")\n",
        "\n",
        "\n",
        "s1 = Student(98,99)\n",
        "s1.phy = 86\n",
        "\n",
        "print(s1.percentage)  #here also we dont have to show any percentage\n"
      ],
      "metadata": {
        "colab": {
          "base_uri": "https://localhost:8080/"
        },
        "id": "k7VCnVnWifgE",
        "outputId": "beaa90ee-cfce-43ed-8f3c-b705d5a22237"
      },
      "execution_count": 64,
      "outputs": [
        {
          "output_type": "stream",
          "name": "stdout",
          "text": [
            "92.5%\n"
          ]
        }
      ]
    },
    {
      "cell_type": "code",
      "source": [
        "#Polymorphism\n",
        "#when one thing is used in many ways\n",
        "#example plus(+) operator\n",
        "# 1+ 1 = 2\n",
        "# but print(\"Azam\" + \"Bhat\") acts as concatenate\n",
        "#also in list ([1,2,3] + [5,6,7]) it merges all the elements\n",
        "#This is how ploymorphism works"
      ],
      "metadata": {
        "id": "aVkC1rY3U82q"
      },
      "execution_count": null,
      "outputs": []
    },
    {
      "cell_type": "code",
      "source": [
        "#complex number code\n",
        "class Complex:\n",
        "  def __init__(self,real,img):\n",
        "    self.real = real\n",
        "    self.img = img\n",
        "\n",
        "  def shownum(self):\n",
        "    print(f\"{self.real}i + {self.img}j\")\n",
        "\n",
        "num1 = Complex(1,2)\n",
        "num2 = Complex(3,4)\n",
        "print(num1.shownum())\n",
        "print(num2.shownum())"
      ],
      "metadata": {
        "colab": {
          "base_uri": "https://localhost:8080/"
        },
        "id": "HwgrvhyOV5xu",
        "outputId": "3dd85b0a-3ba2-42be-ff0f-79dd105b6e7f"
      },
      "execution_count": 34,
      "outputs": [
        {
          "output_type": "stream",
          "name": "stdout",
          "text": [
            "1i + 2j\n",
            "None\n",
            "3i + 4j\n",
            "None\n"
          ]
        }
      ]
    },
    {
      "cell_type": "code",
      "source": [
        "#Now how to add the two complex numbers\n",
        "class Complex:\n",
        "  def __init__(self,real,img):\n",
        "    self.real = real\n",
        "    self.img = img\n",
        "\n",
        "  def __add__(num1,num2):     # here we define a func with attributes self and num2:lets cahnge them to num1 an num2 :It gave the same output\n",
        "    newreal = num1.real + num2.real\n",
        "    newimg = num1.img + num2.img\n",
        "    return Complex(newreal,newimg) #here it returns the add of both\n",
        "\n",
        "  def shownum(self):\n",
        "    print(f\"{self.real}i + {self.img}j\")\n",
        "\n",
        "num1 = Complex(1,2)\n",
        "num1.shownum()\n",
        "num2 = Complex(3,4)\n",
        "num2.shownum()\n",
        "num3 = num1 + num2\n",
        "num3.shownum()\n"
      ],
      "metadata": {
        "colab": {
          "base_uri": "https://localhost:8080/"
        },
        "id": "tcc_EdygWcgW",
        "outputId": "a74ba36d-a61c-461c-a6ad-02be3ba55ec5"
      },
      "execution_count": 42,
      "outputs": [
        {
          "output_type": "stream",
          "name": "stdout",
          "text": [
            "1i + 2j\n",
            "3i + 4j\n",
            "4i + 6j\n"
          ]
        }
      ]
    },
    {
      "cell_type": "code",
      "source": [],
      "metadata": {
        "id": "AO22eBX-XieO"
      },
      "execution_count": null,
      "outputs": []
    },
    {
      "cell_type": "code",
      "source": [
        "#Create a class to create a circle with radius r using constructor\n",
        "#define area method\n",
        "# define perimeter\n",
        "class Circle:\n",
        "  def __init__(self,radius):\n",
        "    self.radius = radius\n",
        "  def area(self):\n",
        "    return (22/7) * self.radius ** 2\n",
        "\n",
        "  def perimeter(self):\n",
        "    return 2 * (22/7) * self.radius\n",
        "\n",
        "c1 = Circle(21)\n",
        "print(c1.radius)\n",
        "print(c1.area())\n",
        "print(c1.perimeter())"
      ],
      "metadata": {
        "colab": {
          "base_uri": "https://localhost:8080/"
        },
        "id": "Yr0qjXbZaBsr",
        "outputId": "50828d5e-6d89-46e8-ab5a-e80315f61a89"
      },
      "execution_count": 70,
      "outputs": [
        {
          "output_type": "stream",
          "name": "stdout",
          "text": [
            "21\n",
            "1386.0\n",
            "132.0\n"
          ]
        }
      ]
    },
    {
      "cell_type": "code",
      "source": [
        "#Another Question\n",
        "class Employee:\n",
        "  def __init__(self,role,dept,sal):\n",
        "    self.role = role\n",
        "    self.dept = dept\n",
        "    self.sal = sal\n",
        "\n",
        "  def show(self):\n",
        "    print(f'''Role = {self.role},\n",
        "Dept = {self.dept},\n",
        "Sal = {self.sal}''')\n",
        "\n",
        "class Engineer(Employee):\n",
        "  def __init__(self,name,age):\n",
        "    self.name = name\n",
        "    self.age = age\n",
        "    super().__init__(\"Engineer\",\"IT\",\"75,000\")\n",
        "\n",
        "eng1 = Engineer('Azam',27)\n",
        "eng1.show()\n",
        "\n"
      ],
      "metadata": {
        "colab": {
          "base_uri": "https://localhost:8080/"
        },
        "id": "swOPoNvdkV0X",
        "outputId": "001a5bd0-c282-4d52-d7ed-04380361431f"
      },
      "execution_count": 78,
      "outputs": [
        {
          "output_type": "stream",
          "name": "stdout",
          "text": [
            "Role = Engineer,\n",
            "Dept = IT,\n",
            "Sal = 75,000\n"
          ]
        }
      ]
    },
    {
      "cell_type": "code",
      "source": [],
      "metadata": {
        "id": "wbqOq1dcmpgc"
      },
      "execution_count": null,
      "outputs": []
    }
  ]
}