{
  "nbformat": 4,
  "nbformat_minor": 0,
  "metadata": {
    "colab": {
      "provenance": [],
      "authorship_tag": "ABX9TyNqrU8lKf0fW8nKcfD3qhlU"
    },
    "kernelspec": {
      "name": "python3",
      "display_name": "Python 3"
    },
    "language_info": {
      "name": "python"
    }
  },
  "cells": [
    {
      "cell_type": "code",
      "execution_count": null,
      "metadata": {
        "id": "tuuEQms-QihQ"
      },
      "outputs": [],
      "source": [
        "#What is OOPs in python?\n",
        "#Object oriented programming language ----> Programming paradigm which is based on the concept of object;\n",
        "#In this, programs move around objects: also they can interact with each other\n",
        "#main work of OOPs is to bind the data and the function together as a single unit.\n",
        "\n",
        "#What is a class?\n",
        "#In OOPs we define real life entities as class, these classes have attributes and methods(behaviour)\n"
      ]
    },
    {
      "cell_type": "code",
      "source": [
        "class Student:\n",
        "  name = \"Azam\""
      ],
      "metadata": {
        "id": "5zXYGXQN-sFZ"
      },
      "execution_count": null,
      "outputs": []
    },
    {
      "cell_type": "code",
      "source": [
        "s1 = Student()\n",
        "print(s1.name)"
      ],
      "metadata": {
        "colab": {
          "base_uri": "https://localhost:8080/"
        },
        "id": "znccafHD-5yK",
        "outputId": "ec5aad0a-23d2-4934-a9f5-055741b9b90c"
      },
      "execution_count": null,
      "outputs": [
        {
          "output_type": "stream",
          "name": "stdout",
          "text": [
            "Azam\n"
          ]
        }
      ]
    },
    {
      "cell_type": "code",
      "source": [
        "# constructor __init__ function\n",
        "# invokes during object creation\n",
        "# when object is initiated init function is initiated\n",
        "# how to write it yourself\n"
      ],
      "metadata": {
        "id": "659qaO_B_Az_"
      },
      "execution_count": null,
      "outputs": []
    },
    {
      "cell_type": "code",
      "source": [
        "class Student:\n",
        "  def __init__(self,name):\n",
        "    self.name = name\n",
        "    print(\"New student in database......\")\n"
      ],
      "metadata": {
        "id": "dSFEc2an_tT-"
      },
      "execution_count": null,
      "outputs": []
    },
    {
      "cell_type": "code",
      "source": [
        "s1 = Student('Azam')\n",
        "print(s1.name)\n",
        "\n",
        "s2 = Student('Manan')\n",
        "print(s2.name)"
      ],
      "metadata": {
        "colab": {
          "base_uri": "https://localhost:8080/"
        },
        "id": "5tDSHoYQ_J1x",
        "outputId": "7e1ef306-8966-498f-8aa9-e411b119fc61"
      },
      "execution_count": null,
      "outputs": [
        {
          "output_type": "stream",
          "name": "stdout",
          "text": [
            "New student in database......\n",
            "Azam\n",
            "New student in database......\n",
            "Manan\n"
          ]
        }
      ]
    },
    {
      "cell_type": "code",
      "source": [
        "# data stored inside the class is called attribute"
      ],
      "metadata": {
        "id": "EBxBJJvCA-LE"
      },
      "execution_count": null,
      "outputs": []
    },
    {
      "cell_type": "code",
      "source": [
        "#Create a student class that  takrs name and marks of 3\n",
        "#subjects as arguments in constructor.\n",
        "#Then create a method to print average\n",
        "\n",
        "class Student:\n",
        "    def __init__(self,name,marks):\n",
        "        self.name = name\n",
        "        self.marks = marks\n",
        "\n",
        "    def get_avg(self):\n",
        "        sum = 0\n",
        "        for i in self.marks:\n",
        "            sum += i\n",
        "        print(f\"Hi {self.name}, Your average score is {sum/3}\")\n",
        "\n",
        "s1 = Student('Azam',[99,98,97])\n",
        "s1.get_avg()\n"
      ],
      "metadata": {
        "colab": {
          "base_uri": "https://localhost:8080/"
        },
        "id": "zNgCcRMSrvf_",
        "outputId": "0ba1524f-6af1-4cf6-c745-1d50ca30c27c"
      },
      "execution_count": 3,
      "outputs": [
        {
          "output_type": "stream",
          "name": "stdout",
          "text": [
            "Hi Azam, Your average score is 98.0\n"
          ]
        }
      ]
    }
  ]
}