{
  "nbformat": 4,
  "nbformat_minor": 0,
  "metadata": {
    "colab": {
      "provenance": [],
      "authorship_tag": "ABX9TyOXWVtybb/kMecaKoLp5iN9"
    },
    "kernelspec": {
      "name": "python3",
      "display_name": "Python 3"
    },
    "language_info": {
      "name": "python"
    }
  },
  "cells": [
    {
      "cell_type": "code",
      "execution_count": 1,
      "metadata": {
        "colab": {
          "base_uri": "https://localhost:8080/"
        },
        "id": "w8m_P9A77sg5",
        "outputId": "55db184a-6a65-4f8b-abc5-9920724f4ebc"
      },
      "outputs": [
        {
          "output_type": "stream",
          "name": "stdout",
          "text": [
            "10000\n",
            "12345\n",
            "Rs 1000 was debited\n",
            "Total balance is 9000\n",
            "Rs 5000 was credited\n",
            "Total balance is 14000\n",
            "Rs 40000 was credited\n",
            "Total balance is 54000\n",
            "Rs 5000 was debited\n",
            "Total balance is 49000\n"
          ]
        }
      ],
      "source": [
        "# Create account class with 2 attributes, Balance and account number,\n",
        "#create method for debit, credit, and printing balance.\n",
        "\n",
        "class Account:\n",
        "  def __init__(self, balance, account_no):\n",
        "     self.balance = balance               #Here you can use any name to define balance after self. eg('bal',bal_1) anything\n",
        "     self.account_no = account_no\n",
        "\n",
        "# now define function for debit\n",
        "  def debit(self,amount):\n",
        "    self.balance -= amount\n",
        "    print(f\"Rs {amount} was debited\")\n",
        "    print(f\"Total balance is {self.get_balance()}\")\n",
        "\n",
        "  def credit(self,amount):\n",
        "    self.balance += amount\n",
        "    print(f\"Rs {amount} was credited\")\n",
        "    print(f\"Total balance is {self.get_balance()}\")\n",
        "\n",
        "  def get_balance(self):\n",
        "    return self.balance\n",
        "\n",
        "\n",
        "acc1 = Account(10000,12345)\n",
        "print(acc1.balance)\n",
        "print(acc1.account_no)\n",
        "\n",
        "\n",
        "acc1.debit(1000) #Grocery\n",
        "acc1.credit(5000) #CashBAck\n",
        "acc1.credit(40000) # salary credited\n",
        "acc1.debit(5000)# rent"
      ]
    }
  ]
}