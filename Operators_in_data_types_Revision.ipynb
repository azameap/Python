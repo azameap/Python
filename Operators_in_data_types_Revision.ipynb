{
  "nbformat": 4,
  "nbformat_minor": 0,
  "metadata": {
    "colab": {
      "provenance": [],
      "include_colab_link": true
    },
    "kernelspec": {
      "name": "python3",
      "display_name": "Python 3"
    },
    "language_info": {
      "name": "python"
    }
  },
  "cells": [
    {
      "cell_type": "markdown",
      "metadata": {
        "id": "view-in-github",
        "colab_type": "text"
      },
      "source": [
        "<a href=\"https://colab.research.google.com/github/azameap/Python/blob/main/Operators_in_data_types_Revision.ipynb\" target=\"_parent\"><img src=\"https://colab.research.google.com/assets/colab-badge.svg\" alt=\"Open In Colab\"/></a>"
      ]
    },
    {
      "cell_type": "code",
      "execution_count": null,
      "metadata": {
        "colab": {
          "base_uri": "https://localhost:8080/"
        },
        "id": "ZNtikWmkr1C1",
        "outputId": "de752a81-4112-49eb-c5cf-8f781b2b9cf7"
      },
      "outputs": [
        {
          "output_type": "stream",
          "name": "stdout",
          "text": [
            "Enter your age:40\n",
            "Enter the cibil score:800\n",
            "Enter your monthly income:60000\n",
            "\n",
            "Enter your profession\n",
            "[Type se for Self Employed, hc for Healthcare professionals, gv for government official, corp for Corporate Official]\n",
            ":\n",
            "gv\n",
            "Enter the term of loan in years:1\n",
            "\n",
            "You are eligible for loan; \n",
            "Monthly payable amount for 1 year/s term is INR 9206.0 \n",
            "Total amount to be paid is 110471.0\n",
            "  \n"
          ]
        }
      ],
      "source": [
        "# Principal : 1 lakh Loan Approval Calculator rate @ 10% annum | compounded per month\n",
        "# Loan will be approved only if age is between 18 and 60\n",
        "# cibil score greater than equal to 650 or Income is greater than INR 50K per month\n",
        "# Profession must not be [\"se\",\"hc\"] ==> Self Employed or Health care\n",
        "# If Loan is approved then ask for the term years (t) of the loan and Print \"You are eligible for loan; Monthly payable amount for t term is XX and total amount paid is YY\"\n",
        "# If loan is rejected then print \"Sorry, your loan application is rejected!\"\n",
        "# Formula for total payable amount: principal((1+rate/(12*100))^12t) : t = term years\n",
        "# Monthly payable amount: total payable amount / 12t\n",
        "\n",
        "\n",
        "principal = 100000\n",
        "rate = 10\n",
        "age = int(input(\"Enter your age:\"))\n",
        "cibil_score = int(input(\"Enter the cibil score:\"))\n",
        "monthly_income = int(input(\"Enter your monthly income:\"))\n",
        "profession = input('''\n",
        "Enter your profession\n",
        "[Type se for Self Employed, hc for Healthcare professionals, gv for government official, corp for Corporate Official]\n",
        ":\n",
        "''')\n",
        "\n",
        "if (age >= 18 and age <= 60 ) and (cibil_score >= 650 or monthly_income > 50000) and (profession not in [\"se\",\"hc\"] ):\n",
        "  term_years = int(input(\"Enter the term of loan in years:\"))\n",
        "  total_payable_amount = round(principal * ((1+rate / (12 * 100)) ** (12*term_years)),0)\n",
        "  monthly_payable_amount = round(total_payable_amount /(12*term_years),0)\n",
        "  print(f'''\n",
        "You are eligible for loan;\n",
        "Monthly payable amount for {term_years} year/s term is INR {monthly_payable_amount}\n",
        "Total amount to be paid is {total_payable_amount}\n",
        "  ''')\n",
        "else:\n",
        "  print(\"Sorry, your loan application is rejected!\")\n"
      ]
    },
    {
      "cell_type": "code",
      "source": [
        "'se' not in ['se','hc']"
      ],
      "metadata": {
        "colab": {
          "base_uri": "https://localhost:8080/"
        },
        "id": "_vtO8hvwvs-Y",
        "outputId": "cdb60a5e-2e0b-46c9-fdc6-d520cfe41bf9"
      },
      "execution_count": null,
      "outputs": [
        {
          "output_type": "execute_result",
          "data": {
            "text/plain": [
              "False"
            ]
          },
          "metadata": {},
          "execution_count": 7
        }
      ]
    },
    {
      "cell_type": "code",
      "source": [
        "age = 18\n",
        "print(age == 18 and age <= 60)"
      ],
      "metadata": {
        "colab": {
          "base_uri": "https://localhost:8080/"
        },
        "id": "2Au-eApnvwfP",
        "outputId": "3c1032e1-5d4b-4620-cec6-1d0dc60db41d"
      },
      "execution_count": null,
      "outputs": [
        {
          "output_type": "stream",
          "name": "stdout",
          "text": [
            "True\n"
          ]
        }
      ]
    },
    {
      "cell_type": "code",
      "source": [],
      "metadata": {
        "id": "2bwxKaRPx2sD"
      },
      "execution_count": null,
      "outputs": []
    }
  ]
}