{
  "nbformat": 4,
  "nbformat_minor": 0,
  "metadata": {
    "colab": {
      "provenance": [],
      "authorship_tag": "ABX9TyPBbAogB5QNwd/341S0wUbb",
      "include_colab_link": true
    },
    "kernelspec": {
      "name": "python3",
      "display_name": "Python 3"
    },
    "language_info": {
      "name": "python"
    }
  },
  "cells": [
    {
      "cell_type": "markdown",
      "metadata": {
        "id": "view-in-github",
        "colab_type": "text"
      },
      "source": [
        "<a href=\"https://colab.research.google.com/github/azameap/Python/blob/main/Vrtual_Pet_Using_OOPs.ipynb\" target=\"_parent\"><img src=\"https://colab.research.google.com/assets/colab-badge.svg\" alt=\"Open In Colab\"/></a>"
      ]
    },
    {
      "cell_type": "code",
      "execution_count": 45,
      "metadata": {
        "id": "PFGmpKsk392s"
      },
      "outputs": [],
      "source": [
        "#You have been asked to develop a virtual pet program that simulates the experience of owning a pet.\n",
        "#The program should allow users to create a new pet, feed it, play with it, and monitor its health.\n",
        "#Each pet should have a name, age, and initial health level.\n",
        "#To implement this program, you decide to create a class called Pet that represents a virtual pet.\n",
        "#The Pet class has attributes for the pet's name, age, and health level.\n",
        "#It also has methods for feeding the pet, playing with the pet, and checking the pet's health.\n",
        "\n",
        "class Pet:\n",
        "  def __init__(self,name,age,health_lev):\n",
        "    self.name = name\n",
        "    self.age = age\n",
        "    self.health_lev = health_lev\n",
        "\n",
        "  #health level increase by 10 when feed\n",
        "  def feed(self):\n",
        "    self.health_lev += 10\n",
        "\n",
        "  #when playing decrease by 10\n",
        "  def play(self):\n",
        "    self.health_lev -= 10\n",
        "\n",
        "  #Check health and print message based on health level\n",
        "  def health_check(self):\n",
        "    if self.health_lev < 50:\n",
        "      print(\"Pet not feeling well\")\n",
        "    else:\n",
        "      print(\"Pet is healthy\")\n",
        "\n",
        "\n",
        "\n",
        "\n"
      ]
    },
    {
      "cell_type": "code",
      "source": [
        "p1 = Pet('Tommy',2,100)"
      ],
      "metadata": {
        "id": "2fkZtqLo8tbH"
      },
      "execution_count": 46,
      "outputs": []
    },
    {
      "cell_type": "code",
      "source": [
        "p1.feed()\n",
        "print(p1.health_lev)\n",
        "print(p1.health_check())"
      ],
      "metadata": {
        "colab": {
          "base_uri": "https://localhost:8080/"
        },
        "id": "8V3H8ezM7Llz",
        "outputId": "dc084b25-b53b-45e7-f01e-0b0bec679074"
      },
      "execution_count": 47,
      "outputs": [
        {
          "output_type": "stream",
          "name": "stdout",
          "text": [
            "110\n",
            "Pet is healthy\n",
            "None\n"
          ]
        }
      ]
    },
    {
      "cell_type": "code",
      "source": [
        "print(f\"Name:  {p1.name}\")\n",
        "print(f\"Age:  {p1.age}\")\n",
        "print(f\"Health Level:  {p1.health_lev}\")\n",
        "print(f\"{p1.health_check()}\")\n",
        "\n"
      ],
      "metadata": {
        "colab": {
          "base_uri": "https://localhost:8080/"
        },
        "id": "yToKwjus5nr3",
        "outputId": "b072ff61-fccd-4070-b530-46e42dff5ff2"
      },
      "execution_count": 52,
      "outputs": [
        {
          "output_type": "stream",
          "name": "stdout",
          "text": [
            "Name:  Tommy\n",
            "Age:  2\n",
            "Health Level:  110\n",
            "Pet is healthy\n",
            "None\n"
          ]
        }
      ]
    },
    {
      "cell_type": "code",
      "source": [],
      "metadata": {
        "id": "B96SZhow8Qc5"
      },
      "execution_count": null,
      "outputs": []
    }
  ]
}